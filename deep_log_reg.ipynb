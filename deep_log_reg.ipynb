{
 "cells": [
  {
   "cell_type": "code",
   "execution_count": 18,
   "metadata": {},
   "outputs": [],
   "source": [
    "import pandas as pd"
   ]
  },
  {
   "cell_type": "code",
   "execution_count": 19,
   "metadata": {},
   "outputs": [],
   "source": [
    "ames = pd.read_csv(\"ames.csv\")"
   ]
  },
  {
   "cell_type": "code",
   "execution_count": 20,
   "metadata": {},
   "outputs": [
    {
     "data": {
      "text/html": [
       "<div>\n",
       "<style scoped>\n",
       "    .dataframe tbody tr th:only-of-type {\n",
       "        vertical-align: middle;\n",
       "    }\n",
       "\n",
       "    .dataframe tbody tr th {\n",
       "        vertical-align: top;\n",
       "    }\n",
       "\n",
       "    .dataframe thead th {\n",
       "        text-align: right;\n",
       "    }\n",
       "</style>\n",
       "<table border=\"1\" class=\"dataframe\">\n",
       "  <thead>\n",
       "    <tr style=\"text-align: right;\">\n",
       "      <th></th>\n",
       "      <th>MS_SubClass</th>\n",
       "      <th>MS_Zoning</th>\n",
       "      <th>Lot_Frontage</th>\n",
       "      <th>Lot_Area</th>\n",
       "      <th>Street</th>\n",
       "      <th>Alley</th>\n",
       "      <th>Lot_Shape</th>\n",
       "      <th>Land_Contour</th>\n",
       "      <th>Utilities</th>\n",
       "      <th>Lot_Config</th>\n",
       "      <th>...</th>\n",
       "      <th>Misc_Val</th>\n",
       "      <th>Mo_Sold</th>\n",
       "      <th>Year_Sold</th>\n",
       "      <th>Sale_Type</th>\n",
       "      <th>Sale_Condition</th>\n",
       "      <th>Sale_Price</th>\n",
       "      <th>Longitude</th>\n",
       "      <th>Latitude</th>\n",
       "      <th>Bonus</th>\n",
       "      <th>id</th>\n",
       "    </tr>\n",
       "  </thead>\n",
       "  <tbody>\n",
       "    <tr>\n",
       "      <th>0</th>\n",
       "      <td>One_Story_1946_and_Newer_All_Styles</td>\n",
       "      <td>Residential_Low_Density</td>\n",
       "      <td>141</td>\n",
       "      <td>31770</td>\n",
       "      <td>Pave</td>\n",
       "      <td>No_Alley_Access</td>\n",
       "      <td>Slightly_Irregular</td>\n",
       "      <td>Lvl</td>\n",
       "      <td>AllPub</td>\n",
       "      <td>Corner</td>\n",
       "      <td>...</td>\n",
       "      <td>0</td>\n",
       "      <td>5</td>\n",
       "      <td>2010</td>\n",
       "      <td>WD</td>\n",
       "      <td>Normal</td>\n",
       "      <td>215000</td>\n",
       "      <td>-93.619754</td>\n",
       "      <td>42.054035</td>\n",
       "      <td>1</td>\n",
       "      <td>1</td>\n",
       "    </tr>\n",
       "    <tr>\n",
       "      <th>1</th>\n",
       "      <td>One_Story_1946_and_Newer_All_Styles</td>\n",
       "      <td>Residential_High_Density</td>\n",
       "      <td>80</td>\n",
       "      <td>11622</td>\n",
       "      <td>Pave</td>\n",
       "      <td>No_Alley_Access</td>\n",
       "      <td>Regular</td>\n",
       "      <td>Lvl</td>\n",
       "      <td>AllPub</td>\n",
       "      <td>Inside</td>\n",
       "      <td>...</td>\n",
       "      <td>0</td>\n",
       "      <td>6</td>\n",
       "      <td>2010</td>\n",
       "      <td>WD</td>\n",
       "      <td>Normal</td>\n",
       "      <td>105000</td>\n",
       "      <td>-93.619756</td>\n",
       "      <td>42.053014</td>\n",
       "      <td>0</td>\n",
       "      <td>2</td>\n",
       "    </tr>\n",
       "    <tr>\n",
       "      <th>2</th>\n",
       "      <td>One_Story_1946_and_Newer_All_Styles</td>\n",
       "      <td>Residential_Low_Density</td>\n",
       "      <td>81</td>\n",
       "      <td>14267</td>\n",
       "      <td>Pave</td>\n",
       "      <td>No_Alley_Access</td>\n",
       "      <td>Slightly_Irregular</td>\n",
       "      <td>Lvl</td>\n",
       "      <td>AllPub</td>\n",
       "      <td>Corner</td>\n",
       "      <td>...</td>\n",
       "      <td>12500</td>\n",
       "      <td>6</td>\n",
       "      <td>2010</td>\n",
       "      <td>WD</td>\n",
       "      <td>Normal</td>\n",
       "      <td>172000</td>\n",
       "      <td>-93.619387</td>\n",
       "      <td>42.052659</td>\n",
       "      <td>0</td>\n",
       "      <td>3</td>\n",
       "    </tr>\n",
       "    <tr>\n",
       "      <th>3</th>\n",
       "      <td>One_Story_1946_and_Newer_All_Styles</td>\n",
       "      <td>Residential_Low_Density</td>\n",
       "      <td>93</td>\n",
       "      <td>11160</td>\n",
       "      <td>Pave</td>\n",
       "      <td>No_Alley_Access</td>\n",
       "      <td>Regular</td>\n",
       "      <td>Lvl</td>\n",
       "      <td>AllPub</td>\n",
       "      <td>Corner</td>\n",
       "      <td>...</td>\n",
       "      <td>0</td>\n",
       "      <td>4</td>\n",
       "      <td>2010</td>\n",
       "      <td>WD</td>\n",
       "      <td>Normal</td>\n",
       "      <td>244000</td>\n",
       "      <td>-93.617320</td>\n",
       "      <td>42.051245</td>\n",
       "      <td>1</td>\n",
       "      <td>4</td>\n",
       "    </tr>\n",
       "    <tr>\n",
       "      <th>4</th>\n",
       "      <td>Two_Story_1946_and_Newer</td>\n",
       "      <td>Residential_Low_Density</td>\n",
       "      <td>74</td>\n",
       "      <td>13830</td>\n",
       "      <td>Pave</td>\n",
       "      <td>No_Alley_Access</td>\n",
       "      <td>Slightly_Irregular</td>\n",
       "      <td>Lvl</td>\n",
       "      <td>AllPub</td>\n",
       "      <td>Inside</td>\n",
       "      <td>...</td>\n",
       "      <td>0</td>\n",
       "      <td>3</td>\n",
       "      <td>2010</td>\n",
       "      <td>WD</td>\n",
       "      <td>Normal</td>\n",
       "      <td>189900</td>\n",
       "      <td>-93.638933</td>\n",
       "      <td>42.060899</td>\n",
       "      <td>1</td>\n",
       "      <td>5</td>\n",
       "    </tr>\n",
       "  </tbody>\n",
       "</table>\n",
       "<p>5 rows × 83 columns</p>\n",
       "</div>"
      ],
      "text/plain": [
       "                           MS_SubClass                 MS_Zoning  \\\n",
       "0  One_Story_1946_and_Newer_All_Styles   Residential_Low_Density   \n",
       "1  One_Story_1946_and_Newer_All_Styles  Residential_High_Density   \n",
       "2  One_Story_1946_and_Newer_All_Styles   Residential_Low_Density   \n",
       "3  One_Story_1946_and_Newer_All_Styles   Residential_Low_Density   \n",
       "4             Two_Story_1946_and_Newer   Residential_Low_Density   \n",
       "\n",
       "   Lot_Frontage  Lot_Area Street            Alley           Lot_Shape  \\\n",
       "0           141     31770   Pave  No_Alley_Access  Slightly_Irregular   \n",
       "1            80     11622   Pave  No_Alley_Access             Regular   \n",
       "2            81     14267   Pave  No_Alley_Access  Slightly_Irregular   \n",
       "3            93     11160   Pave  No_Alley_Access             Regular   \n",
       "4            74     13830   Pave  No_Alley_Access  Slightly_Irregular   \n",
       "\n",
       "  Land_Contour Utilities Lot_Config  ... Misc_Val Mo_Sold Year_Sold Sale_Type  \\\n",
       "0          Lvl    AllPub     Corner  ...        0       5      2010       WD    \n",
       "1          Lvl    AllPub     Inside  ...        0       6      2010       WD    \n",
       "2          Lvl    AllPub     Corner  ...    12500       6      2010       WD    \n",
       "3          Lvl    AllPub     Corner  ...        0       4      2010       WD    \n",
       "4          Lvl    AllPub     Inside  ...        0       3      2010       WD    \n",
       "\n",
       "  Sale_Condition Sale_Price  Longitude   Latitude  Bonus  id  \n",
       "0         Normal     215000 -93.619754  42.054035      1   1  \n",
       "1         Normal     105000 -93.619756  42.053014      0   2  \n",
       "2         Normal     172000 -93.619387  42.052659      0   3  \n",
       "3         Normal     244000 -93.617320  42.051245      1   4  \n",
       "4         Normal     189900 -93.638933  42.060899      1   5  \n",
       "\n",
       "[5 rows x 83 columns]"
      ]
     },
     "execution_count": 20,
     "metadata": {},
     "output_type": "execute_result"
    }
   ],
   "source": [
    "ames.head()"
   ]
  },
  {
   "cell_type": "code",
   "execution_count": 21,
   "metadata": {},
   "outputs": [
    {
     "data": {
      "text/html": [
       "<div>\n",
       "<style scoped>\n",
       "    .dataframe tbody tr th:only-of-type {\n",
       "        vertical-align: middle;\n",
       "    }\n",
       "\n",
       "    .dataframe tbody tr th {\n",
       "        vertical-align: top;\n",
       "    }\n",
       "\n",
       "    .dataframe thead th {\n",
       "        text-align: right;\n",
       "    }\n",
       "</style>\n",
       "<table border=\"1\" class=\"dataframe\">\n",
       "  <thead>\n",
       "    <tr style=\"text-align: right;\">\n",
       "      <th></th>\n",
       "      <th>Lot_Frontage</th>\n",
       "      <th>Lot_Area</th>\n",
       "      <th>Year_Built</th>\n",
       "      <th>Year_Remod_Add</th>\n",
       "      <th>Mas_Vnr_Area</th>\n",
       "      <th>BsmtFin_SF_1</th>\n",
       "      <th>BsmtFin_SF_2</th>\n",
       "      <th>Bsmt_Unf_SF</th>\n",
       "      <th>Total_Bsmt_SF</th>\n",
       "      <th>First_Flr_SF</th>\n",
       "      <th>...</th>\n",
       "      <th>Screen_Porch</th>\n",
       "      <th>Pool_Area</th>\n",
       "      <th>Misc_Val</th>\n",
       "      <th>Mo_Sold</th>\n",
       "      <th>Year_Sold</th>\n",
       "      <th>Sale_Price</th>\n",
       "      <th>Longitude</th>\n",
       "      <th>Latitude</th>\n",
       "      <th>Bonus</th>\n",
       "      <th>id</th>\n",
       "    </tr>\n",
       "  </thead>\n",
       "  <tbody>\n",
       "    <tr>\n",
       "      <th>count</th>\n",
       "      <td>2930.000000</td>\n",
       "      <td>2930.000000</td>\n",
       "      <td>2930.000000</td>\n",
       "      <td>2930.000000</td>\n",
       "      <td>2930.000000</td>\n",
       "      <td>2930.000000</td>\n",
       "      <td>2930.000000</td>\n",
       "      <td>2930.000000</td>\n",
       "      <td>2930.000000</td>\n",
       "      <td>2930.000000</td>\n",
       "      <td>...</td>\n",
       "      <td>2930.000000</td>\n",
       "      <td>2930.000000</td>\n",
       "      <td>2930.000000</td>\n",
       "      <td>2930.000000</td>\n",
       "      <td>2930.000000</td>\n",
       "      <td>2930.000000</td>\n",
       "      <td>2930.000000</td>\n",
       "      <td>2930.000000</td>\n",
       "      <td>2930.000000</td>\n",
       "      <td>2930.00000</td>\n",
       "    </tr>\n",
       "    <tr>\n",
       "      <th>mean</th>\n",
       "      <td>57.647782</td>\n",
       "      <td>10147.921843</td>\n",
       "      <td>1971.356314</td>\n",
       "      <td>1984.266553</td>\n",
       "      <td>101.096928</td>\n",
       "      <td>4.177474</td>\n",
       "      <td>49.705461</td>\n",
       "      <td>559.071672</td>\n",
       "      <td>1051.255631</td>\n",
       "      <td>1159.557679</td>\n",
       "      <td>...</td>\n",
       "      <td>16.002048</td>\n",
       "      <td>2.243345</td>\n",
       "      <td>50.635154</td>\n",
       "      <td>6.216041</td>\n",
       "      <td>2007.790444</td>\n",
       "      <td>180796.060068</td>\n",
       "      <td>-93.642897</td>\n",
       "      <td>42.034482</td>\n",
       "      <td>0.418430</td>\n",
       "      <td>1465.50000</td>\n",
       "    </tr>\n",
       "    <tr>\n",
       "      <th>std</th>\n",
       "      <td>33.499441</td>\n",
       "      <td>7880.017759</td>\n",
       "      <td>30.245361</td>\n",
       "      <td>20.860286</td>\n",
       "      <td>178.634545</td>\n",
       "      <td>2.233372</td>\n",
       "      <td>169.142089</td>\n",
       "      <td>439.540571</td>\n",
       "      <td>440.968018</td>\n",
       "      <td>391.890885</td>\n",
       "      <td>...</td>\n",
       "      <td>56.087370</td>\n",
       "      <td>35.597181</td>\n",
       "      <td>566.344288</td>\n",
       "      <td>2.714492</td>\n",
       "      <td>1.316613</td>\n",
       "      <td>79886.692357</td>\n",
       "      <td>0.025700</td>\n",
       "      <td>0.018410</td>\n",
       "      <td>0.493386</td>\n",
       "      <td>845.96247</td>\n",
       "    </tr>\n",
       "    <tr>\n",
       "      <th>min</th>\n",
       "      <td>0.000000</td>\n",
       "      <td>1300.000000</td>\n",
       "      <td>1872.000000</td>\n",
       "      <td>1950.000000</td>\n",
       "      <td>0.000000</td>\n",
       "      <td>0.000000</td>\n",
       "      <td>0.000000</td>\n",
       "      <td>0.000000</td>\n",
       "      <td>0.000000</td>\n",
       "      <td>334.000000</td>\n",
       "      <td>...</td>\n",
       "      <td>0.000000</td>\n",
       "      <td>0.000000</td>\n",
       "      <td>0.000000</td>\n",
       "      <td>1.000000</td>\n",
       "      <td>2006.000000</td>\n",
       "      <td>12789.000000</td>\n",
       "      <td>-93.693153</td>\n",
       "      <td>41.986498</td>\n",
       "      <td>0.000000</td>\n",
       "      <td>1.00000</td>\n",
       "    </tr>\n",
       "    <tr>\n",
       "      <th>25%</th>\n",
       "      <td>43.000000</td>\n",
       "      <td>7440.250000</td>\n",
       "      <td>1954.000000</td>\n",
       "      <td>1965.000000</td>\n",
       "      <td>0.000000</td>\n",
       "      <td>3.000000</td>\n",
       "      <td>0.000000</td>\n",
       "      <td>219.000000</td>\n",
       "      <td>793.000000</td>\n",
       "      <td>876.250000</td>\n",
       "      <td>...</td>\n",
       "      <td>0.000000</td>\n",
       "      <td>0.000000</td>\n",
       "      <td>0.000000</td>\n",
       "      <td>4.000000</td>\n",
       "      <td>2007.000000</td>\n",
       "      <td>129500.000000</td>\n",
       "      <td>-93.660217</td>\n",
       "      <td>42.022088</td>\n",
       "      <td>0.000000</td>\n",
       "      <td>733.25000</td>\n",
       "    </tr>\n",
       "    <tr>\n",
       "      <th>50%</th>\n",
       "      <td>63.000000</td>\n",
       "      <td>9436.500000</td>\n",
       "      <td>1973.000000</td>\n",
       "      <td>1993.000000</td>\n",
       "      <td>0.000000</td>\n",
       "      <td>3.000000</td>\n",
       "      <td>0.000000</td>\n",
       "      <td>465.500000</td>\n",
       "      <td>990.000000</td>\n",
       "      <td>1084.000000</td>\n",
       "      <td>...</td>\n",
       "      <td>0.000000</td>\n",
       "      <td>0.000000</td>\n",
       "      <td>0.000000</td>\n",
       "      <td>6.000000</td>\n",
       "      <td>2008.000000</td>\n",
       "      <td>160000.000000</td>\n",
       "      <td>-93.641806</td>\n",
       "      <td>42.034662</td>\n",
       "      <td>0.000000</td>\n",
       "      <td>1465.50000</td>\n",
       "    </tr>\n",
       "    <tr>\n",
       "      <th>75%</th>\n",
       "      <td>78.000000</td>\n",
       "      <td>11555.250000</td>\n",
       "      <td>2001.000000</td>\n",
       "      <td>2004.000000</td>\n",
       "      <td>162.750000</td>\n",
       "      <td>7.000000</td>\n",
       "      <td>0.000000</td>\n",
       "      <td>801.750000</td>\n",
       "      <td>1301.500000</td>\n",
       "      <td>1384.000000</td>\n",
       "      <td>...</td>\n",
       "      <td>0.000000</td>\n",
       "      <td>0.000000</td>\n",
       "      <td>0.000000</td>\n",
       "      <td>8.000000</td>\n",
       "      <td>2009.000000</td>\n",
       "      <td>213500.000000</td>\n",
       "      <td>-93.622113</td>\n",
       "      <td>42.049853</td>\n",
       "      <td>1.000000</td>\n",
       "      <td>2197.75000</td>\n",
       "    </tr>\n",
       "    <tr>\n",
       "      <th>max</th>\n",
       "      <td>313.000000</td>\n",
       "      <td>215245.000000</td>\n",
       "      <td>2010.000000</td>\n",
       "      <td>2010.000000</td>\n",
       "      <td>1600.000000</td>\n",
       "      <td>7.000000</td>\n",
       "      <td>1526.000000</td>\n",
       "      <td>2336.000000</td>\n",
       "      <td>6110.000000</td>\n",
       "      <td>5095.000000</td>\n",
       "      <td>...</td>\n",
       "      <td>576.000000</td>\n",
       "      <td>800.000000</td>\n",
       "      <td>17000.000000</td>\n",
       "      <td>12.000000</td>\n",
       "      <td>2010.000000</td>\n",
       "      <td>755000.000000</td>\n",
       "      <td>-93.577427</td>\n",
       "      <td>42.063388</td>\n",
       "      <td>1.000000</td>\n",
       "      <td>2930.00000</td>\n",
       "    </tr>\n",
       "  </tbody>\n",
       "</table>\n",
       "<p>8 rows × 37 columns</p>\n",
       "</div>"
      ],
      "text/plain": [
       "       Lot_Frontage       Lot_Area   Year_Built  Year_Remod_Add  Mas_Vnr_Area  \\\n",
       "count   2930.000000    2930.000000  2930.000000     2930.000000   2930.000000   \n",
       "mean      57.647782   10147.921843  1971.356314     1984.266553    101.096928   \n",
       "std       33.499441    7880.017759    30.245361       20.860286    178.634545   \n",
       "min        0.000000    1300.000000  1872.000000     1950.000000      0.000000   \n",
       "25%       43.000000    7440.250000  1954.000000     1965.000000      0.000000   \n",
       "50%       63.000000    9436.500000  1973.000000     1993.000000      0.000000   \n",
       "75%       78.000000   11555.250000  2001.000000     2004.000000    162.750000   \n",
       "max      313.000000  215245.000000  2010.000000     2010.000000   1600.000000   \n",
       "\n",
       "       BsmtFin_SF_1  BsmtFin_SF_2  Bsmt_Unf_SF  Total_Bsmt_SF  First_Flr_SF  \\\n",
       "count   2930.000000   2930.000000  2930.000000    2930.000000   2930.000000   \n",
       "mean       4.177474     49.705461   559.071672    1051.255631   1159.557679   \n",
       "std        2.233372    169.142089   439.540571     440.968018    391.890885   \n",
       "min        0.000000      0.000000     0.000000       0.000000    334.000000   \n",
       "25%        3.000000      0.000000   219.000000     793.000000    876.250000   \n",
       "50%        3.000000      0.000000   465.500000     990.000000   1084.000000   \n",
       "75%        7.000000      0.000000   801.750000    1301.500000   1384.000000   \n",
       "max        7.000000   1526.000000  2336.000000    6110.000000   5095.000000   \n",
       "\n",
       "       ...  Screen_Porch    Pool_Area      Misc_Val      Mo_Sold    Year_Sold  \\\n",
       "count  ...   2930.000000  2930.000000   2930.000000  2930.000000  2930.000000   \n",
       "mean   ...     16.002048     2.243345     50.635154     6.216041  2007.790444   \n",
       "std    ...     56.087370    35.597181    566.344288     2.714492     1.316613   \n",
       "min    ...      0.000000     0.000000      0.000000     1.000000  2006.000000   \n",
       "25%    ...      0.000000     0.000000      0.000000     4.000000  2007.000000   \n",
       "50%    ...      0.000000     0.000000      0.000000     6.000000  2008.000000   \n",
       "75%    ...      0.000000     0.000000      0.000000     8.000000  2009.000000   \n",
       "max    ...    576.000000   800.000000  17000.000000    12.000000  2010.000000   \n",
       "\n",
       "          Sale_Price    Longitude     Latitude        Bonus          id  \n",
       "count    2930.000000  2930.000000  2930.000000  2930.000000  2930.00000  \n",
       "mean   180796.060068   -93.642897    42.034482     0.418430  1465.50000  \n",
       "std     79886.692357     0.025700     0.018410     0.493386   845.96247  \n",
       "min     12789.000000   -93.693153    41.986498     0.000000     1.00000  \n",
       "25%    129500.000000   -93.660217    42.022088     0.000000   733.25000  \n",
       "50%    160000.000000   -93.641806    42.034662     0.000000  1465.50000  \n",
       "75%    213500.000000   -93.622113    42.049853     1.000000  2197.75000  \n",
       "max    755000.000000   -93.577427    42.063388     1.000000  2930.00000  \n",
       "\n",
       "[8 rows x 37 columns]"
      ]
     },
     "execution_count": 21,
     "metadata": {},
     "output_type": "execute_result"
    }
   ],
   "source": [
    "ames.describe()"
   ]
  },
  {
   "cell_type": "code",
   "execution_count": 22,
   "metadata": {},
   "outputs": [
    {
     "data": {
      "text/plain": [
       "Index(['MS_SubClass', 'MS_Zoning', 'Lot_Frontage', 'Lot_Area', 'Street',\n",
       "       'Alley', 'Lot_Shape', 'Land_Contour', 'Utilities', 'Lot_Config',\n",
       "       'Land_Slope', 'Neighborhood', 'Condition_1', 'Condition_2', 'Bldg_Type',\n",
       "       'House_Style', 'Overall_Qual', 'Overall_Cond', 'Year_Built',\n",
       "       'Year_Remod_Add', 'Roof_Style', 'Roof_Matl', 'Exterior_1st',\n",
       "       'Exterior_2nd', 'Mas_Vnr_Type', 'Mas_Vnr_Area', 'Exter_Qual',\n",
       "       'Exter_Cond', 'Foundation', 'Bsmt_Qual', 'Bsmt_Cond', 'Bsmt_Exposure',\n",
       "       'BsmtFin_Type_1', 'BsmtFin_SF_1', 'BsmtFin_Type_2', 'BsmtFin_SF_2',\n",
       "       'Bsmt_Unf_SF', 'Total_Bsmt_SF', 'Heating', 'Heating_QC', 'Central_Air',\n",
       "       'Electrical', 'First_Flr_SF', 'Second_Flr_SF', 'Low_Qual_Fin_SF',\n",
       "       'Gr_Liv_Area', 'Bsmt_Full_Bath', 'Bsmt_Half_Bath', 'Full_Bath',\n",
       "       'Half_Bath', 'Bedroom_AbvGr', 'Kitchen_AbvGr', 'Kitchen_Qual',\n",
       "       'TotRms_AbvGrd', 'Functional', 'Fireplaces', 'Fireplace_Qu',\n",
       "       'Garage_Type', 'Garage_Finish', 'Garage_Cars', 'Garage_Area',\n",
       "       'Garage_Qual', 'Garage_Cond', 'Paved_Drive', 'Wood_Deck_SF',\n",
       "       'Open_Porch_SF', 'Enclosed_Porch', 'Three_season_porch', 'Screen_Porch',\n",
       "       'Pool_Area', 'Pool_QC', 'Fence', 'Misc_Feature', 'Misc_Val', 'Mo_Sold',\n",
       "       'Year_Sold', 'Sale_Type', 'Sale_Condition', 'Sale_Price', 'Longitude',\n",
       "       'Latitude', 'Bonus', 'id'],\n",
       "      dtype='object')"
      ]
     },
     "execution_count": 22,
     "metadata": {},
     "output_type": "execute_result"
    }
   ],
   "source": [
    "ames.columns"
   ]
  },
  {
   "cell_type": "code",
   "execution_count": 23,
   "metadata": {},
   "outputs": [],
   "source": [
    "train = pd.read_csv(\"ames_train.csv\")\n",
    "\n",
    "test = pd.read_csv(\"ames_test.csv\")"
   ]
  },
  {
   "cell_type": "code",
   "execution_count": 24,
   "metadata": {},
   "outputs": [
    {
     "name": "stdout",
     "output_type": "stream",
     "text": [
      "(2051, 83)\n",
      "(879, 83)\n"
     ]
    }
   ],
   "source": [
    "print(train.shape)\n",
    "print(test.shape)"
   ]
  },
  {
   "cell_type": "markdown",
   "metadata": {},
   "source": [
    "### Univariate EDA"
   ]
  },
  {
   "cell_type": "code",
   "execution_count": 26,
   "metadata": {},
   "outputs": [
    {
     "data": {
      "text/plain": [
       "Bonus\n",
       "0    1211\n",
       "1     840\n",
       "Name: count, dtype: int64"
      ]
     },
     "execution_count": 26,
     "metadata": {},
     "output_type": "execute_result"
    }
   ],
   "source": [
    "train.Bonus.value_counts()"
   ]
  },
  {
   "cell_type": "code",
   "execution_count": 27,
   "metadata": {},
   "outputs": [
    {
     "data": {
      "text/plain": [
       "Central_Air\n",
       "Y    1904\n",
       "N     147\n",
       "Name: count, dtype: int64"
      ]
     },
     "execution_count": 27,
     "metadata": {},
     "output_type": "execute_result"
    }
   ],
   "source": [
    "train.Central_Air.value_counts()"
   ]
  },
  {
   "cell_type": "code",
   "execution_count": 29,
   "metadata": {},
   "outputs": [
    {
     "data": {
      "image/png": "[encoded data removed]",
      "text/plain": [
       "<Figure size 640x480 with 1 Axes>"
      ]
     },
     "metadata": {},
     "output_type": "display_data"
    }
   ],
   "source": [
    "ax = sns.countplot(x = \"Bonus\", data = train, color = \"blue\")\n",
    "ax.set(xlabel = 'Bonus Eligible',\n",
    "       ylabel = 'Frequency',\n",
    "       title = 'Bar Graph of Bonus Eligibility')\n",
    "plt.show()"
   ]
  },
  {
   "cell_type": "code",
   "execution_count": 33,
   "metadata": {},
   "outputs": [
    {
     "data": {
      "image/png": "[encoded data removed]",
      "text/plain": [
       "<Figure size 640x480 with 1 Axes>"
      ]
     },
     "metadata": {},
     "output_type": "display_data"
    }
   ],
   "source": [
    "plt.cla()\n",
    "ax = sns.countplot(x = \"Central_Air\", data = train, color = \"blue\")\n",
    "ax.set(xlabel = 'Central Air',\n",
    "       ylabel = 'Frequency',\n",
    "       title = 'Bar Graph of Central Air Availability')\n",
    "plt.show()"
   ]
  },
  {
   "cell_type": "markdown",
   "metadata": {},
   "source": [
    "### Bivariate EDA"
   ]
  },
  {
   "cell_type": "markdown",
   "metadata": {},
   "source": [
    "### Crosstab"
   ]
  },
  {
   "cell_type": "code",
   "execution_count": null,
   "metadata": {},
   "outputs": [
    {
     "data": {
      "text/html": [
       "<div>\n",
       "<style scoped>\n",
       "    .dataframe tbody tr th:only-of-type {\n",
       "        vertical-align: middle;\n",
       "    }\n",
       "\n",
       "    .dataframe tbody tr th {\n",
       "        vertical-align: top;\n",
       "    }\n",
       "\n",
       "    .dataframe thead th {\n",
       "        text-align: right;\n",
       "    }\n",
       "</style>\n",
       "<table border=\"1\" class=\"dataframe\">\n",
       "  <thead>\n",
       "    <tr style=\"text-align: right;\">\n",
       "      <th>Bonus</th>\n",
       "      <th>0</th>\n",
       "      <th>1</th>\n",
       "    </tr>\n",
       "    <tr>\n",
       "      <th>Central_Air</th>\n",
       "      <th></th>\n",
       "      <th></th>\n",
       "    </tr>\n",
       "  </thead>\n",
       "  <tbody>\n",
       "    <tr>\n",
       "      <th>N</th>\n",
       "      <td>142</td>\n",
       "      <td>5</td>\n",
       "    </tr>\n",
       "    <tr>\n",
       "      <th>Y</th>\n",
       "      <td>1069</td>\n",
       "      <td>835</td>\n",
       "    </tr>\n",
       "  </tbody>\n",
       "</table>\n",
       "</div>"
      ],
      "text/plain": [
       "Bonus           0    1\n",
       "Central_Air           \n",
       "N             142    5\n",
       "Y            1069  835"
      ]
     },
     "metadata": {},
     "output_type": "display_data"
    }
   ],
   "source": [
    "import pandas as pd\n",
    "\n",
    "pd.crosstab(index = train['Central_Air'], columns = train['Bonus'])"
   ]
  },
  {
   "cell_type": "code",
   "execution_count": 35,
   "metadata": {},
   "outputs": [
    {
     "data": {
      "image/png": "[encoded data removed]",
      "text/plain": [
       "<Figure size 640x480 with 1 Axes>"
      ]
     },
     "metadata": {},
     "output_type": "display_data"
    }
   ],
   "source": [
    "plt.cla()\n",
    "ax = sns.countplot(x = \"Bonus\", data = train, hue = \"Central_Air\")\n",
    "ax.set(xlabel = 'Central Air',\n",
    "       ylabel = 'Frequency',\n",
    "       title = 'Bar Graph of Central Air Availability')\n",
    "plt.show()"
   ]
  },
  {
   "cell_type": "markdown",
   "metadata": {},
   "source": [
    "### Tests of Association - Chi2\n",
    "- this will show the statistical significance of the realtionship between Bonus and Central Air"
   ]
  },
  {
   "cell_type": "code",
   "execution_count": 36,
   "metadata": {},
   "outputs": [
    {
     "data": {
      "text/plain": [
       "Chi2ContingencyResult(statistic=90.6859058522855, pvalue=1.683884397784894e-21, dof=1, expected_freq=array([[  86.79522184,   60.20477816],\n",
       "       [1124.20477816,  779.79522184]]))"
      ]
     },
     "execution_count": 36,
     "metadata": {},
     "output_type": "execute_result"
    }
   ],
   "source": [
    "from scipy.stats import chi2_contingency\n",
    "\n",
    "chi2_contingency(pd.crosstab(index = train['Central_Air'], columns = train['Bonus']), correction = True)"
   ]
  },
  {
   "cell_type": "markdown",
   "metadata": {},
   "source": [
    "### Odds Ratio \n",
    "- when sample sizes are not the same/degrees of freedom are not the same, we use measures of strength of associaiton.\n",
    "- odds ratios: for comparing binary variables only. How much more likely an event in one group is relative to another group. odds =  p/1-p\n",
    "- Cramer's V: nominal variables with any number of categories\n",
    "- Spearman's Correlation: ordinal variables with any number of categories"
   ]
  },
  {
   "cell_type": "code",
   "execution_count": 37,
   "metadata": {},
   "outputs": [
    {
     "data": {
      "text/plain": [
       "SignificanceResult(statistic=22.18334892422825, pvalue=1.0365949500671678e-27)"
      ]
     },
     "execution_count": 37,
     "metadata": {},
     "output_type": "execute_result"
    }
   ],
   "source": [
    "# Odds Ratio uses Fisher's Exact Test in Python\n",
    "from scipy.stats import fisher_exact\n",
    "\n",
    "fisher_exact(pd.crosstab(index = train['Central_Air'], columns = train['Bonus']))"
   ]
  },
  {
   "cell_type": "markdown",
   "metadata": {},
   "source": [
    "##### Interpretation of Fisher's Exact Test as an Odd's Ratio:\n",
    "- statistic is the odds ratio\n",
    "-interpretation: homes without AC are 22.2 times as likely NOT to be Bonus eligibile. Or: homes with AC are 22.2 times as likely to be Bonus eligible"
   ]
  },
  {
   "cell_type": "markdown",
   "metadata": {},
   "source": [
    "#### Alternate: Cramer's V for Nominal Variables with multiple categories:"
   ]
  },
  {
   "cell_type": "code",
   "execution_count": 38,
   "metadata": {},
   "outputs": [
    {
     "data": {
      "text/plain": [
       "0.21219662657018892"
      ]
     },
     "execution_count": 38,
     "metadata": {},
     "output_type": "execute_result"
    }
   ],
   "source": [
    "from scipy.stats.contingency import association\n",
    "\n",
    "association(pd.crosstab(index = train['Central_Air'], columns = train['Bonus']), method = \"cramer\")"
   ]
  },
  {
   "cell_type": "markdown",
   "metadata": {},
   "source": [
    "#### Alternate 2: Spearman's Correlation, for ordinal variables (this includes binary variables)"
   ]
  },
  {
   "cell_type": "code",
   "execution_count": 39,
   "metadata": {},
   "outputs": [
    {
     "data": {
      "text/plain": [
       "SignificanceResult(statistic=0.21219662657018892, pvalue=2.604243816433701e-22)"
      ]
     },
     "execution_count": 39,
     "metadata": {},
     "output_type": "execute_result"
    }
   ],
   "source": [
    "from scipy.stats import spearmanr\n",
    "\n",
    "spearmanr(train['Central_Air'], train['Bonus'])"
   ]
  },
  {
   "cell_type": "markdown",
   "metadata": {},
   "source": [
    "### Binary Logistic Regression\n",
    "- the probability of getting a 1 in a binary variable\n",
    "- to create a linear model, a link function is applied to the probabilites (LOGIT function)\n",
    "- the LOGIT is the log of the odds ratio\n",
    "- logistic regression will use Maximum Likelihood Estimation (MLE) to generate the coefficients in the Logisitc Regression"
   ]
  },
  {
   "cell_type": "code",
   "execution_count": 40,
   "metadata": {},
   "outputs": [
    {
     "data": {
      "text/html": [
       "<table class=\"simpletable\">\n",
       "<caption>Generalized Linear Model Regression Results</caption>\n",
       "<tr>\n",
       "  <th>Dep. Variable:</th>         <td>Bonus</td>      <th>  No. Observations:  </th>  <td>  2051</td> \n",
       "</tr>\n",
       "<tr>\n",
       "  <th>Model:</th>                  <td>GLM</td>       <th>  Df Residuals:      </th>  <td>  2048</td> \n",
       "</tr>\n",
       "<tr>\n",
       "  <th>Model Family:</th>        <td>Binomial</td>     <th>  Df Model:          </th>  <td>     2</td> \n",
       "</tr>\n",
       "<tr>\n",
       "  <th>Link Function:</th>         <td>Logit</td>      <th>  Scale:             </th> <td>  1.0000</td>\n",
       "</tr>\n",
       "<tr>\n",
       "  <th>Method:</th>                <td>IRLS</td>       <th>  Log-Likelihood:    </th> <td> -904.42</td>\n",
       "</tr>\n",
       "<tr>\n",
       "  <th>Date:</th>            <td>Thu, 05 Sep 2024</td> <th>  Deviance:          </th> <td>  1808.8</td>\n",
       "</tr>\n",
       "<tr>\n",
       "  <th>Time:</th>                <td>19:51:50</td>     <th>  Pearson chi2:      </th> <td>1.98e+07</td>\n",
       "</tr>\n",
       "<tr>\n",
       "  <th>No. Iterations:</th>          <td>7</td>        <th>  Pseudo R-squ. (CS):</th>  <td>0.3759</td> \n",
       "</tr>\n",
       "<tr>\n",
       "  <th>Covariance Type:</th>     <td>nonrobust</td>    <th>                     </th>     <td> </td>   \n",
       "</tr>\n",
       "</table>\n",
       "<table class=\"simpletable\">\n",
       "<tr>\n",
       "           <td></td>              <th>coef</th>     <th>std err</th>      <th>z</th>      <th>P>|z|</th>  <th>[0.025</th>    <th>0.975]</th>  \n",
       "</tr>\n",
       "<tr>\n",
       "  <th>Intercept</th>           <td>  -10.3546</td> <td>    0.642</td> <td>  -16.124</td> <td> 0.000</td> <td>  -11.613</td> <td>   -9.096</td>\n",
       "</tr>\n",
       "<tr>\n",
       "  <th>C(Central_Air)[T.Y]</th> <td>    3.9519</td> <td>    0.518</td> <td>    7.629</td> <td> 0.000</td> <td>    2.937</td> <td>    4.967</td>\n",
       "</tr>\n",
       "<tr>\n",
       "  <th>Gr_Liv_Area</th>         <td>    0.0041</td> <td>    0.000</td> <td>   20.959</td> <td> 0.000</td> <td>    0.004</td> <td>    0.004</td>\n",
       "</tr>\n",
       "</table>"
      ],
      "text/latex": [
       "\\begin{center}\n",
       "\\begin{tabular}{lclc}\n",
       "\\toprule\n",
       "\\textbf{Dep. Variable:}       &      Bonus       & \\textbf{  No. Observations:  } &     2051    \\\\\n",
       "\\textbf{Model:}               &       GLM        & \\textbf{  Df Residuals:      } &     2048    \\\\\n",
       "\\textbf{Model Family:}        &     Binomial     & \\textbf{  Df Model:          } &        2    \\\\\n",
       "\\textbf{Link Function:}       &      Logit       & \\textbf{  Scale:             } &    1.0000   \\\\\n",
       "\\textbf{Method:}              &       IRLS       & \\textbf{  Log-Likelihood:    } &   -904.42   \\\\\n",
       "\\textbf{Date:}                & Thu, 05 Sep 2024 & \\textbf{  Deviance:          } &    1808.8   \\\\\n",
       "\\textbf{Time:}                &     19:51:50     & \\textbf{  Pearson chi2:      } &  1.98e+07   \\\\\n",
       "\\textbf{No. Iterations:}      &        7         & \\textbf{  Pseudo R-squ. (CS):} &   0.3759    \\\\\n",
       "\\textbf{Covariance Type:}     &    nonrobust     & \\textbf{                     } &             \\\\\n",
       "\\bottomrule\n",
       "\\end{tabular}\n",
       "\\begin{tabular}{lcccccc}\n",
       "                              & \\textbf{coef} & \\textbf{std err} & \\textbf{z} & \\textbf{P$> |$z$|$} & \\textbf{[0.025} & \\textbf{0.975]}  \\\\\n",
       "\\midrule\n",
       "\\textbf{Intercept}            &     -10.3546  &        0.642     &   -16.124  &         0.000        &      -11.613    &       -9.096     \\\\\n",
       "\\textbf{C(Central\\_Air)[T.Y]} &       3.9519  &        0.518     &     7.629  &         0.000        &        2.937    &        4.967     \\\\\n",
       "\\textbf{Gr\\_Liv\\_Area}        &       0.0041  &        0.000     &    20.959  &         0.000        &        0.004    &        0.004     \\\\\n",
       "\\bottomrule\n",
       "\\end{tabular}\n",
       "%\\caption{Generalized Linear Model Regression Results}\n",
       "\\end{center}"
      ],
      "text/plain": [
       "<class 'statsmodels.iolib.summary.Summary'>\n",
       "\"\"\"\n",
       "                 Generalized Linear Model Regression Results                  \n",
       "==============================================================================\n",
       "Dep. Variable:                  Bonus   No. Observations:                 2051\n",
       "Model:                            GLM   Df Residuals:                     2048\n",
       "Model Family:                Binomial   Df Model:                            2\n",
       "Link Function:                  Logit   Scale:                          1.0000\n",
       "Method:                          IRLS   Log-Likelihood:                -904.42\n",
       "Date:                Thu, 05 Sep 2024   Deviance:                       1808.8\n",
       "Time:                        19:51:50   Pearson chi2:                 1.98e+07\n",
       "No. Iterations:                     7   Pseudo R-squ. (CS):             0.3759\n",
       "Covariance Type:            nonrobust                                         \n",
       "=======================================================================================\n",
       "                          coef    std err          z      P>|z|      [0.025      0.975]\n",
       "---------------------------------------------------------------------------------------\n",
       "Intercept             -10.3546      0.642    -16.124      0.000     -11.613      -9.096\n",
       "C(Central_Air)[T.Y]     3.9519      0.518      7.629      0.000       2.937       4.967\n",
       "Gr_Liv_Area             0.0041      0.000     20.959      0.000       0.004       0.004\n",
       "=======================================================================================\n",
       "\"\"\""
      ]
     },
     "execution_count": 40,
     "metadata": {},
     "output_type": "execute_result"
    }
   ],
   "source": [
    "from statsmodels.genmod.families import Binomial\n",
    "from statsmodels.genmod.generalized_linear_model import GLM\n",
    "\n",
    "# in python, the C function converts the categorical variable (Central_Air) into usable design variables\n",
    "# family = Binomial() makes this a Logistic Regression, instead of another type of Linear Model (OLS for example)\n",
    "log_model = GLM.from_formula('Bonus ~ Gr_Liv_Area + C(Central_Air)', data = train, family = Binomial()).fit()\n",
    "\n",
    "log_model.summary()"
   ]
  },
  {
   "cell_type": "markdown",
   "metadata": {},
   "source": [
    "##### Interpretation of the GLM Model Summary:\n",
    "- the equation is provided in the coefficient column\n",
    "- p-values are provided as well. They all fall under the threshold set here: 0.005"
   ]
  },
  {
   "cell_type": "markdown",
   "metadata": {},
   "source": [
    "##### Checking a Categorical Variable for significance in the Model, when the variable has multiple levels:"
   ]
  },
  {
   "cell_type": "code",
   "execution_count": 47,
   "metadata": {},
   "outputs": [
    {
     "name": "stdout",
     "output_type": "stream",
     "text": [
      "Warning: Maximum number of iterations has been exceeded.\n",
      "         Current function value: 0.425703\n",
      "         Iterations: 35\n"
     ]
    },
    {
     "name": "stderr",
     "output_type": "stream",
     "text": [
      "/opt/anaconda3/lib/python3.11/site-packages/statsmodels/base/model.py:607: ConvergenceWarning: Maximum Likelihood optimization failed to converge. Check mle_retvals\n",
      "  warnings.warn(\"Maximum Likelihood optimization failed to \"\n"
     ]
    }
   ],
   "source": [
    "import statsmodels.formula.api as smf\n",
    "\n",
    "reduced_ll = log_model.llf\n",
    "full_ll = smf.logit(\"Bonus ~ Gr_Liv_Area + C(Central_Air) + C(Fireplaces)\", data = train).fit().llf"
   ]
  },
  {
   "cell_type": "code",
   "execution_count": 48,
   "metadata": {},
   "outputs": [
    {
     "name": "stdout",
     "output_type": "stream",
     "text": [
      "62.614122085892404\n",
      "8.181135706922902e-13\n"
     ]
    }
   ],
   "source": [
    "#now we compare the model with the addition of Fireplaces (full_ll above), against the original model w/o the Fireplaces variable. This will generate a likelihood ratio and a p-value\n",
    "import scipy as sp\n",
    "\n",
    "LR_statistic = -2*(reduced_ll-full_ll)\n",
    "\n",
    "print(LR_statistic)\n",
    "# the 4 is 4 degrees of freedom for a variable with 5 levels\n",
    "p_val = sp.stats.chi2.sf(LR_statistic, 4)\n",
    "\n",
    "print(p_val)"
   ]
  },
  {
   "cell_type": "code",
   "execution_count": null,
   "metadata": {},
   "outputs": [],
   "source": []
  }
 ],
 "metadata": {
  "kernelspec": {
   "display_name": "base",
   "language": "python",
   "name": "python3"
  },
  "language_info": {
   "codemirror_mode": {
    "name": "ipython",
    "version": 3
   },
   "file_extension": ".py",
   "mimetype": "text/x-python",
   "name": "python",
   "nbconvert_exporter": "python",
   "pygments_lexer": "ipython3",
   "version": "3.11.8"
  }
 },
 "nbformat": 4,
 "nbformat_minor": 2
}
