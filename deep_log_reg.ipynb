{
 "cells": [
  {
   "cell_type": "code",
   "execution_count": 18,
   "metadata": {},
   "outputs": [],
   "source": [
    "import pandas as pd"
   ]
  },
  {
   "cell_type": "code",
   "execution_count": 19,
   "metadata": {},
   "outputs": [],
   "source": [
    "ames = pd.read_csv(\"ames.csv\")"
   ]
  },
  {
   "cell_type": "code",
   "execution_count": 20,
   "metadata": {},
   "outputs": [
    {
     "data": {
      "text/html": [
       "<div>\n",
       "<style scoped>\n",
       "    .dataframe tbody tr th:only-of-type {\n",
       "        vertical-align: middle;\n",
       "    }\n",
       "\n",
       "    .dataframe tbody tr th {\n",
       "        vertical-align: top;\n",
       "    }\n",
       "\n",
       "    .dataframe thead th {\n",
       "        text-align: right;\n",
       "    }\n",
       "</style>\n",
       "<table border=\"1\" class=\"dataframe\">\n",
       "  <thead>\n",
       "    <tr style=\"text-align: right;\">\n",
       "      <th></th>\n",
       "      <th>MS_SubClass</th>\n",
       "      <th>MS_Zoning</th>\n",
       "      <th>Lot_Frontage</th>\n",
       "      <th>Lot_Area</th>\n",
       "      <th>Street</th>\n",
       "      <th>Alley</th>\n",
       "      <th>Lot_Shape</th>\n",
       "      <th>Land_Contour</th>\n",
       "      <th>Utilities</th>\n",
       "      <th>Lot_Config</th>\n",
       "      <th>...</th>\n",
       "      <th>Misc_Val</th>\n",
       "      <th>Mo_Sold</th>\n",
       "      <th>Year_Sold</th>\n",
       "      <th>Sale_Type</th>\n",
       "      <th>Sale_Condition</th>\n",
       "      <th>Sale_Price</th>\n",
       "      <th>Longitude</th>\n",
       "      <th>Latitude</th>\n",
       "      <th>Bonus</th>\n",
       "      <th>id</th>\n",
       "    </tr>\n",
       "  </thead>\n",
       "  <tbody>\n",
       "    <tr>\n",
       "      <th>0</th>\n",
       "      <td>One_Story_1946_and_Newer_All_Styles</td>\n",
       "      <td>Residential_Low_Density</td>\n",
       "      <td>141</td>\n",
       "      <td>31770</td>\n",
       "      <td>Pave</td>\n",
       "      <td>No_Alley_Access</td>\n",
       "      <td>Slightly_Irregular</td>\n",
       "      <td>Lvl</td>\n",
       "      <td>AllPub</td>\n",
       "      <td>Corner</td>\n",
       "      <td>...</td>\n",
       "      <td>0</td>\n",
       "      <td>5</td>\n",
       "      <td>2010</td>\n",
       "      <td>WD</td>\n",
       "      <td>Normal</td>\n",
       "      <td>215000</td>\n",
       "      <td>-93.619754</td>\n",
       "      <td>42.054035</td>\n",
       "      <td>1</td>\n",
       "      <td>1</td>\n",
       "    </tr>\n",
       "    <tr>\n",
       "      <th>1</th>\n",
       "      <td>One_Story_1946_and_Newer_All_Styles</td>\n",
       "      <td>Residential_High_Density</td>\n",
       "      <td>80</td>\n",
       "      <td>11622</td>\n",
       "      <td>Pave</td>\n",
       "      <td>No_Alley_Access</td>\n",
       "      <td>Regular</td>\n",
       "      <td>Lvl</td>\n",
       "      <td>AllPub</td>\n",
       "      <td>Inside</td>\n",
       "      <td>...</td>\n",
       "      <td>0</td>\n",
       "      <td>6</td>\n",
       "      <td>2010</td>\n",
       "      <td>WD</td>\n",
       "      <td>Normal</td>\n",
       "      <td>105000</td>\n",
       "      <td>-93.619756</td>\n",
       "      <td>42.053014</td>\n",
       "      <td>0</td>\n",
       "      <td>2</td>\n",
       "    </tr>\n",
       "    <tr>\n",
       "      <th>2</th>\n",
       "      <td>One_Story_1946_and_Newer_All_Styles</td>\n",
       "      <td>Residential_Low_Density</td>\n",
       "      <td>81</td>\n",
       "      <td>14267</td>\n",
       "      <td>Pave</td>\n",
       "      <td>No_Alley_Access</td>\n",
       "      <td>Slightly_Irregular</td>\n",
       "      <td>Lvl</td>\n",
       "      <td>AllPub</td>\n",
       "      <td>Corner</td>\n",
       "      <td>...</td>\n",
       "      <td>12500</td>\n",
       "      <td>6</td>\n",
       "      <td>2010</td>\n",
       "      <td>WD</td>\n",
       "      <td>Normal</td>\n",
       "      <td>172000</td>\n",
       "      <td>-93.619387</td>\n",
       "      <td>42.052659</td>\n",
       "      <td>0</td>\n",
       "      <td>3</td>\n",
       "    </tr>\n",
       "    <tr>\n",
       "      <th>3</th>\n",
       "      <td>One_Story_1946_and_Newer_All_Styles</td>\n",
       "      <td>Residential_Low_Density</td>\n",
       "      <td>93</td>\n",
       "      <td>11160</td>\n",
       "      <td>Pave</td>\n",
       "      <td>No_Alley_Access</td>\n",
       "      <td>Regular</td>\n",
       "      <td>Lvl</td>\n",
       "      <td>AllPub</td>\n",
       "      <td>Corner</td>\n",
       "      <td>...</td>\n",
       "      <td>0</td>\n",
       "      <td>4</td>\n",
       "      <td>2010</td>\n",
       "      <td>WD</td>\n",
       "      <td>Normal</td>\n",
       "      <td>244000</td>\n",
       "      <td>-93.617320</td>\n",
       "      <td>42.051245</td>\n",
       "      <td>1</td>\n",
       "      <td>4</td>\n",
       "    </tr>\n",
       "    <tr>\n",
       "      <th>4</th>\n",
       "      <td>Two_Story_1946_and_Newer</td>\n",
       "      <td>Residential_Low_Density</td>\n",
       "      <td>74</td>\n",
       "      <td>13830</td>\n",
       "      <td>Pave</td>\n",
       "      <td>No_Alley_Access</td>\n",
       "      <td>Slightly_Irregular</td>\n",
       "      <td>Lvl</td>\n",
       "      <td>AllPub</td>\n",
       "      <td>Inside</td>\n",
       "      <td>...</td>\n",
       "      <td>0</td>\n",
       "      <td>3</td>\n",
       "      <td>2010</td>\n",
       "      <td>WD</td>\n",
       "      <td>Normal</td>\n",
       "      <td>189900</td>\n",
       "      <td>-93.638933</td>\n",
       "      <td>42.060899</td>\n",
       "      <td>1</td>\n",
       "      <td>5</td>\n",
       "    </tr>\n",
       "  </tbody>\n",
       "</table>\n",
       "<p>5 rows × 83 columns</p>\n",
       "</div>"
      ],
      "text/plain": [
       "                           MS_SubClass                 MS_Zoning  \\\n",
       "0  One_Story_1946_and_Newer_All_Styles   Residential_Low_Density   \n",
       "1  One_Story_1946_and_Newer_All_Styles  Residential_High_Density   \n",
       "2  One_Story_1946_and_Newer_All_Styles   Residential_Low_Density   \n",
       "3  One_Story_1946_and_Newer_All_Styles   Residential_Low_Density   \n",
       "4             Two_Story_1946_and_Newer   Residential_Low_Density   \n",
       "\n",
       "   Lot_Frontage  Lot_Area Street            Alley           Lot_Shape  \\\n",
       "0           141     31770   Pave  No_Alley_Access  Slightly_Irregular   \n",
       "1            80     11622   Pave  No_Alley_Access             Regular   \n",
       "2            81     14267   Pave  No_Alley_Access  Slightly_Irregular   \n",
       "3            93     11160   Pave  No_Alley_Access             Regular   \n",
       "4            74     13830   Pave  No_Alley_Access  Slightly_Irregular   \n",
       "\n",
       "  Land_Contour Utilities Lot_Config  ... Misc_Val Mo_Sold Year_Sold Sale_Type  \\\n",
       "0          Lvl    AllPub     Corner  ...        0       5      2010       WD    \n",
       "1          Lvl    AllPub     Inside  ...        0       6      2010       WD    \n",
       "2          Lvl    AllPub     Corner  ...    12500       6      2010       WD    \n",
       "3          Lvl    AllPub     Corner  ...        0       4      2010       WD    \n",
       "4          Lvl    AllPub     Inside  ...        0       3      2010       WD    \n",
       "\n",
       "  Sale_Condition Sale_Price  Longitude   Latitude  Bonus  id  \n",
       "0         Normal     215000 -93.619754  42.054035      1   1  \n",
       "1         Normal     105000 -93.619756  42.053014      0   2  \n",
       "2         Normal     172000 -93.619387  42.052659      0   3  \n",
       "3         Normal     244000 -93.617320  42.051245      1   4  \n",
       "4         Normal     189900 -93.638933  42.060899      1   5  \n",
       "\n",
       "[5 rows x 83 columns]"
      ]
     },
     "execution_count": 20,
     "metadata": {},
     "output_type": "execute_result"
    }
   ],
   "source": [
    "ames.head()"
   ]
  },
  {
   "cell_type": "code",
   "execution_count": 21,
   "metadata": {},
   "outputs": [
    {
     "data": {
      "text/html": [
       "<div>\n",
       "<style scoped>\n",
       "    .dataframe tbody tr th:only-of-type {\n",
       "        vertical-align: middle;\n",
       "    }\n",
       "\n",
       "    .dataframe tbody tr th {\n",
       "        vertical-align: top;\n",
       "    }\n",
       "\n",
       "    .dataframe thead th {\n",
       "        text-align: right;\n",
       "    }\n",
       "</style>\n",
       "<table border=\"1\" class=\"dataframe\">\n",
       "  <thead>\n",
       "    <tr style=\"text-align: right;\">\n",
       "      <th></th>\n",
       "      <th>Lot_Frontage</th>\n",
       "      <th>Lot_Area</th>\n",
       "      <th>Year_Built</th>\n",
       "      <th>Year_Remod_Add</th>\n",
       "      <th>Mas_Vnr_Area</th>\n",
       "      <th>BsmtFin_SF_1</th>\n",
       "      <th>BsmtFin_SF_2</th>\n",
       "      <th>Bsmt_Unf_SF</th>\n",
       "      <th>Total_Bsmt_SF</th>\n",
       "      <th>First_Flr_SF</th>\n",
       "      <th>...</th>\n",
       "      <th>Screen_Porch</th>\n",
       "      <th>Pool_Area</th>\n",
       "      <th>Misc_Val</th>\n",
       "      <th>Mo_Sold</th>\n",
       "      <th>Year_Sold</th>\n",
       "      <th>Sale_Price</th>\n",
       "      <th>Longitude</th>\n",
       "      <th>Latitude</th>\n",
       "      <th>Bonus</th>\n",
       "      <th>id</th>\n",
       "    </tr>\n",
       "  </thead>\n",
       "  <tbody>\n",
       "    <tr>\n",
       "      <th>count</th>\n",
       "      <td>2930.000000</td>\n",
       "      <td>2930.000000</td>\n",
       "      <td>2930.000000</td>\n",
       "      <td>2930.000000</td>\n",
       "      <td>2930.000000</td>\n",
       "      <td>2930.000000</td>\n",
       "      <td>2930.000000</td>\n",
       "      <td>2930.000000</td>\n",
       "      <td>2930.000000</td>\n",
       "      <td>2930.000000</td>\n",
       "      <td>...</td>\n",
       "      <td>2930.000000</td>\n",
       "      <td>2930.000000</td>\n",
       "      <td>2930.000000</td>\n",
       "      <td>2930.000000</td>\n",
       "      <td>2930.000000</td>\n",
       "      <td>2930.000000</td>\n",
       "      <td>2930.000000</td>\n",
       "      <td>2930.000000</td>\n",
       "      <td>2930.000000</td>\n",
       "      <td>2930.00000</td>\n",
       "    </tr>\n",
       "    <tr>\n",
       "      <th>mean</th>\n",
       "      <td>57.647782</td>\n",
       "      <td>10147.921843</td>\n",
       "      <td>1971.356314</td>\n",
       "      <td>1984.266553</td>\n",
       "      <td>101.096928</td>\n",
       "      <td>4.177474</td>\n",
       "      <td>49.705461</td>\n",
       "      <td>559.071672</td>\n",
       "      <td>1051.255631</td>\n",
       "      <td>1159.557679</td>\n",
       "      <td>...</td>\n",
       "      <td>16.002048</td>\n",
       "      <td>2.243345</td>\n",
       "      <td>50.635154</td>\n",
       "      <td>6.216041</td>\n",
       "      <td>2007.790444</td>\n",
       "      <td>180796.060068</td>\n",
       "      <td>-93.642897</td>\n",
       "      <td>42.034482</td>\n",
       "      <td>0.418430</td>\n",
       "      <td>1465.50000</td>\n",
       "    </tr>\n",
       "    <tr>\n",
       "      <th>std</th>\n",
       "      <td>33.499441</td>\n",
       "      <td>7880.017759</td>\n",
       "      <td>30.245361</td>\n",
       "      <td>20.860286</td>\n",
       "      <td>178.634545</td>\n",
       "      <td>2.233372</td>\n",
       "      <td>169.142089</td>\n",
       "      <td>439.540571</td>\n",
       "      <td>440.968018</td>\n",
       "      <td>391.890885</td>\n",
       "      <td>...</td>\n",
       "      <td>56.087370</td>\n",
       "      <td>35.597181</td>\n",
       "      <td>566.344288</td>\n",
       "      <td>2.714492</td>\n",
       "      <td>1.316613</td>\n",
       "      <td>79886.692357</td>\n",
       "      <td>0.025700</td>\n",
       "      <td>0.018410</td>\n",
       "      <td>0.493386</td>\n",
       "      <td>845.96247</td>\n",
       "    </tr>\n",
       "    <tr>\n",
       "      <th>min</th>\n",
       "      <td>0.000000</td>\n",
       "      <td>1300.000000</td>\n",
       "      <td>1872.000000</td>\n",
       "      <td>1950.000000</td>\n",
       "      <td>0.000000</td>\n",
       "      <td>0.000000</td>\n",
       "      <td>0.000000</td>\n",
       "      <td>0.000000</td>\n",
       "      <td>0.000000</td>\n",
       "      <td>334.000000</td>\n",
       "      <td>...</td>\n",
       "      <td>0.000000</td>\n",
       "      <td>0.000000</td>\n",
       "      <td>0.000000</td>\n",
       "      <td>1.000000</td>\n",
       "      <td>2006.000000</td>\n",
       "      <td>12789.000000</td>\n",
       "      <td>-93.693153</td>\n",
       "      <td>41.986498</td>\n",
       "      <td>0.000000</td>\n",
       "      <td>1.00000</td>\n",
       "    </tr>\n",
       "    <tr>\n",
       "      <th>25%</th>\n",
       "      <td>43.000000</td>\n",
       "      <td>7440.250000</td>\n",
       "      <td>1954.000000</td>\n",
       "      <td>1965.000000</td>\n",
       "      <td>0.000000</td>\n",
       "      <td>3.000000</td>\n",
       "      <td>0.000000</td>\n",
       "      <td>219.000000</td>\n",
       "      <td>793.000000</td>\n",
       "      <td>876.250000</td>\n",
       "      <td>...</td>\n",
       "      <td>0.000000</td>\n",
       "      <td>0.000000</td>\n",
       "      <td>0.000000</td>\n",
       "      <td>4.000000</td>\n",
       "      <td>2007.000000</td>\n",
       "      <td>129500.000000</td>\n",
       "      <td>-93.660217</td>\n",
       "      <td>42.022088</td>\n",
       "      <td>0.000000</td>\n",
       "      <td>733.25000</td>\n",
       "    </tr>\n",
       "    <tr>\n",
       "      <th>50%</th>\n",
       "      <td>63.000000</td>\n",
       "      <td>9436.500000</td>\n",
       "      <td>1973.000000</td>\n",
       "      <td>1993.000000</td>\n",
       "      <td>0.000000</td>\n",
       "      <td>3.000000</td>\n",
       "      <td>0.000000</td>\n",
       "      <td>465.500000</td>\n",
       "      <td>990.000000</td>\n",
       "      <td>1084.000000</td>\n",
       "      <td>...</td>\n",
       "      <td>0.000000</td>\n",
       "      <td>0.000000</td>\n",
       "      <td>0.000000</td>\n",
       "      <td>6.000000</td>\n",
       "      <td>2008.000000</td>\n",
       "      <td>160000.000000</td>\n",
       "      <td>-93.641806</td>\n",
       "      <td>42.034662</td>\n",
       "      <td>0.000000</td>\n",
       "      <td>1465.50000</td>\n",
       "    </tr>\n",
       "    <tr>\n",
       "      <th>75%</th>\n",
       "      <td>78.000000</td>\n",
       "      <td>11555.250000</td>\n",
       "      <td>2001.000000</td>\n",
       "      <td>2004.000000</td>\n",
       "      <td>162.750000</td>\n",
       "      <td>7.000000</td>\n",
       "      <td>0.000000</td>\n",
       "      <td>801.750000</td>\n",
       "      <td>1301.500000</td>\n",
       "      <td>1384.000000</td>\n",
       "      <td>...</td>\n",
       "      <td>0.000000</td>\n",
       "      <td>0.000000</td>\n",
       "      <td>0.000000</td>\n",
       "      <td>8.000000</td>\n",
       "      <td>2009.000000</td>\n",
       "      <td>213500.000000</td>\n",
       "      <td>-93.622113</td>\n",
       "      <td>42.049853</td>\n",
       "      <td>1.000000</td>\n",
       "      <td>2197.75000</td>\n",
       "    </tr>\n",
       "    <tr>\n",
       "      <th>max</th>\n",
       "      <td>313.000000</td>\n",
       "      <td>215245.000000</td>\n",
       "      <td>2010.000000</td>\n",
       "      <td>2010.000000</td>\n",
       "      <td>1600.000000</td>\n",
       "      <td>7.000000</td>\n",
       "      <td>1526.000000</td>\n",
       "      <td>2336.000000</td>\n",
       "      <td>6110.000000</td>\n",
       "      <td>5095.000000</td>\n",
       "      <td>...</td>\n",
       "      <td>576.000000</td>\n",
       "      <td>800.000000</td>\n",
       "      <td>17000.000000</td>\n",
       "      <td>12.000000</td>\n",
       "      <td>2010.000000</td>\n",
       "      <td>755000.000000</td>\n",
       "      <td>-93.577427</td>\n",
       "      <td>42.063388</td>\n",
       "      <td>1.000000</td>\n",
       "      <td>2930.00000</td>\n",
       "    </tr>\n",
       "  </tbody>\n",
       "</table>\n",
       "<p>8 rows × 37 columns</p>\n",
       "</div>"
      ],
      "text/plain": [
       "       Lot_Frontage       Lot_Area   Year_Built  Year_Remod_Add  Mas_Vnr_Area  \\\n",
       "count   2930.000000    2930.000000  2930.000000     2930.000000   2930.000000   \n",
       "mean      57.647782   10147.921843  1971.356314     1984.266553    101.096928   \n",
       "std       33.499441    7880.017759    30.245361       20.860286    178.634545   \n",
       "min        0.000000    1300.000000  1872.000000     1950.000000      0.000000   \n",
       "25%       43.000000    7440.250000  1954.000000     1965.000000      0.000000   \n",
       "50%       63.000000    9436.500000  1973.000000     1993.000000      0.000000   \n",
       "75%       78.000000   11555.250000  2001.000000     2004.000000    162.750000   \n",
       "max      313.000000  215245.000000  2010.000000     2010.000000   1600.000000   \n",
       "\n",
       "       BsmtFin_SF_1  BsmtFin_SF_2  Bsmt_Unf_SF  Total_Bsmt_SF  First_Flr_SF  \\\n",
       "count   2930.000000   2930.000000  2930.000000    2930.000000   2930.000000   \n",
       "mean       4.177474     49.705461   559.071672    1051.255631   1159.557679   \n",
       "std        2.233372    169.142089   439.540571     440.968018    391.890885   \n",
       "min        0.000000      0.000000     0.000000       0.000000    334.000000   \n",
       "25%        3.000000      0.000000   219.000000     793.000000    876.250000   \n",
       "50%        3.000000      0.000000   465.500000     990.000000   1084.000000   \n",
       "75%        7.000000      0.000000   801.750000    1301.500000   1384.000000   \n",
       "max        7.000000   1526.000000  2336.000000    6110.000000   5095.000000   \n",
       "\n",
       "       ...  Screen_Porch    Pool_Area      Misc_Val      Mo_Sold    Year_Sold  \\\n",
       "count  ...   2930.000000  2930.000000   2930.000000  2930.000000  2930.000000   \n",
       "mean   ...     16.002048     2.243345     50.635154     6.216041  2007.790444   \n",
       "std    ...     56.087370    35.597181    566.344288     2.714492     1.316613   \n",
       "min    ...      0.000000     0.000000      0.000000     1.000000  2006.000000   \n",
       "25%    ...      0.000000     0.000000      0.000000     4.000000  2007.000000   \n",
       "50%    ...      0.000000     0.000000      0.000000     6.000000  2008.000000   \n",
       "75%    ...      0.000000     0.000000      0.000000     8.000000  2009.000000   \n",
       "max    ...    576.000000   800.000000  17000.000000    12.000000  2010.000000   \n",
       "\n",
       "          Sale_Price    Longitude     Latitude        Bonus          id  \n",
       "count    2930.000000  2930.000000  2930.000000  2930.000000  2930.00000  \n",
       "mean   180796.060068   -93.642897    42.034482     0.418430  1465.50000  \n",
       "std     79886.692357     0.025700     0.018410     0.493386   845.96247  \n",
       "min     12789.000000   -93.693153    41.986498     0.000000     1.00000  \n",
       "25%    129500.000000   -93.660217    42.022088     0.000000   733.25000  \n",
       "50%    160000.000000   -93.641806    42.034662     0.000000  1465.50000  \n",
       "75%    213500.000000   -93.622113    42.049853     1.000000  2197.75000  \n",
       "max    755000.000000   -93.577427    42.063388     1.000000  2930.00000  \n",
       "\n",
       "[8 rows x 37 columns]"
      ]
     },
     "execution_count": 21,
     "metadata": {},
     "output_type": "execute_result"
    }
   ],
   "source": [
    "ames.describe()"
   ]
  },
  {
   "cell_type": "code",
   "execution_count": 22,
   "metadata": {},
   "outputs": [
    {
     "data": {
      "text/plain": [
       "Index(['MS_SubClass', 'MS_Zoning', 'Lot_Frontage', 'Lot_Area', 'Street',\n",
       "       'Alley', 'Lot_Shape', 'Land_Contour', 'Utilities', 'Lot_Config',\n",
       "       'Land_Slope', 'Neighborhood', 'Condition_1', 'Condition_2', 'Bldg_Type',\n",
       "       'House_Style', 'Overall_Qual', 'Overall_Cond', 'Year_Built',\n",
       "       'Year_Remod_Add', 'Roof_Style', 'Roof_Matl', 'Exterior_1st',\n",
       "       'Exterior_2nd', 'Mas_Vnr_Type', 'Mas_Vnr_Area', 'Exter_Qual',\n",
       "       'Exter_Cond', 'Foundation', 'Bsmt_Qual', 'Bsmt_Cond', 'Bsmt_Exposure',\n",
       "       'BsmtFin_Type_1', 'BsmtFin_SF_1', 'BsmtFin_Type_2', 'BsmtFin_SF_2',\n",
       "       'Bsmt_Unf_SF', 'Total_Bsmt_SF', 'Heating', 'Heating_QC', 'Central_Air',\n",
       "       'Electrical', 'First_Flr_SF', 'Second_Flr_SF', 'Low_Qual_Fin_SF',\n",
       "       'Gr_Liv_Area', 'Bsmt_Full_Bath', 'Bsmt_Half_Bath', 'Full_Bath',\n",
       "       'Half_Bath', 'Bedroom_AbvGr', 'Kitchen_AbvGr', 'Kitchen_Qual',\n",
       "       'TotRms_AbvGrd', 'Functional', 'Fireplaces', 'Fireplace_Qu',\n",
       "       'Garage_Type', 'Garage_Finish', 'Garage_Cars', 'Garage_Area',\n",
       "       'Garage_Qual', 'Garage_Cond', 'Paved_Drive', 'Wood_Deck_SF',\n",
       "       'Open_Porch_SF', 'Enclosed_Porch', 'Three_season_porch', 'Screen_Porch',\n",
       "       'Pool_Area', 'Pool_QC', 'Fence', 'Misc_Feature', 'Misc_Val', 'Mo_Sold',\n",
       "       'Year_Sold', 'Sale_Type', 'Sale_Condition', 'Sale_Price', 'Longitude',\n",
       "       'Latitude', 'Bonus', 'id'],\n",
       "      dtype='object')"
      ]
     },
     "execution_count": 22,
     "metadata": {},
     "output_type": "execute_result"
    }
   ],
   "source": [
    "ames.columns"
   ]
  },
  {
   "cell_type": "code",
   "execution_count": 23,
   "metadata": {},
   "outputs": [],
   "source": [
    "train = pd.read_csv(\"ames_train.csv\")\n",
    "\n",
    "test = pd.read_csv(\"ames_test.csv\")"
   ]
  },
  {
   "cell_type": "code",
   "execution_count": 24,
   "metadata": {},
   "outputs": [
    {
     "name": "stdout",
     "output_type": "stream",
     "text": [
      "(2051, 83)\n",
      "(879, 83)\n"
     ]
    }
   ],
   "source": [
    "print(train.shape)\n",
    "print(test.shape)"
   ]
  },
  {
   "cell_type": "markdown",
   "metadata": {},
   "source": [
    "### Univariate EDA"
   ]
  },
  {
   "cell_type": "code",
   "execution_count": 26,
   "metadata": {},
   "outputs": [
    {
     "data": {
      "text/plain": [
       "Bonus\n",
       "0    1211\n",
       "1     840\n",
       "Name: count, dtype: int64"
      ]
     },
     "execution_count": 26,
     "metadata": {},
     "output_type": "execute_result"
    }
   ],
   "source": [
    "train.Bonus.value_counts()"
   ]
  },
  {
   "cell_type": "code",
   "execution_count": 27,
   "metadata": {},
   "outputs": [
    {
     "data": {
      "text/plain": [
       "Central_Air\n",
       "Y    1904\n",
       "N     147\n",
       "Name: count, dtype: int64"
      ]
     },
     "execution_count": 27,
     "metadata": {},
     "output_type": "execute_result"
    }
   ],
   "source": [
    "train.Central_Air.value_counts()"
   ]
  },
  {
   "cell_type": "code",
   "execution_count": 29,
   "metadata": {},
   "outputs": [
    {
     "data": {
      "image/png": "[encoded data removed]",
      "text/plain": [
       "<Figure size 640x480 with 1 Axes>"
      ]
     },
     "metadata": {},
     "output_type": "display_data"
    }
   ],
   "source": [
    "ax = sns.countplot(x = \"Bonus\", data = train, color = \"blue\")\n",
    "ax.set(xlabel = 'Bonus Eligible',\n",
    "       ylabel = 'Frequency',\n",
    "       title = 'Bar Graph of Bonus Eligibility')\n",
    "plt.show()"
   ]
  },
  {
   "cell_type": "code",
   "execution_count": 33,
   "metadata": {},
   "outputs": [
    {
     "data": {
      "image/png": "[encoded data removed]",
      "text/plain": [
       "<Figure size 640x480 with 1 Axes>"
      ]
     },
     "metadata": {},
     "output_type": "display_data"
    }
   ],
   "source": [
    "plt.cla()\n",
    "ax = sns.countplot(x = \"Central_Air\", data = train, color = \"blue\")\n",
    "ax.set(xlabel = 'Central Air',\n",
    "       ylabel = 'Frequency',\n",
    "       title = 'Bar Graph of Central Air Availability')\n",
    "plt.show()"
   ]
  },
  {
   "cell_type": "markdown",
   "metadata": {},
   "source": [
    "### Bivariate EDA"
   ]
  },
  {
   "cell_type": "markdown",
   "metadata": {},
   "source": [
    "### Crosstab"
   ]
  },
  {
   "cell_type": "code",
   "execution_count": null,
   "metadata": {},
   "outputs": [
    {
     "data": {
      "text/html": [
       "<div>\n",
       "<style scoped>\n",
       "    .dataframe tbody tr th:only-of-type {\n",
       "        vertical-align: middle;\n",
       "    }\n",
       "\n",
       "    .dataframe tbody tr th {\n",
       "        vertical-align: top;\n",
       "    }\n",
       "\n",
       "    .dataframe thead th {\n",
       "        text-align: right;\n",
       "    }\n",
       "</style>\n",
       "<table border=\"1\" class=\"dataframe\">\n",
       "  <thead>\n",
       "    <tr style=\"text-align: right;\">\n",
       "      <th>Bonus</th>\n",
       "      <th>0</th>\n",
       "      <th>1</th>\n",
       "    </tr>\n",
       "    <tr>\n",
       "      <th>Central_Air</th>\n",
       "      <th></th>\n",
       "      <th></th>\n",
       "    </tr>\n",
       "  </thead>\n",
       "  <tbody>\n",
       "    <tr>\n",
       "      <th>N</th>\n",
       "      <td>142</td>\n",
       "      <td>5</td>\n",
       "    </tr>\n",
       "    <tr>\n",
       "      <th>Y</th>\n",
       "      <td>1069</td>\n",
       "      <td>835</td>\n",
       "    </tr>\n",
       "  </tbody>\n",
       "</table>\n",
       "</div>"
      ],
      "text/plain": [
       "Bonus           0    1\n",
       "Central_Air           \n",
       "N             142    5\n",
       "Y            1069  835"
      ]
     },
     "metadata": {},
     "output_type": "display_data"
    }
   ],
   "source": [
    "import pandas as pd\n",
    "\n",
    "pd.crosstab(index = train['Central_Air'], columns = train['Bonus'])"
   ]
  },
  {
   "cell_type": "code",
   "execution_count": 35,
   "metadata": {},
   "outputs": [
    {
     "data": {
      "image/png": "[encoded data removed]",
      "text/plain": [
       "<Figure size 640x480 with 1 Axes>"
      ]
     },
     "metadata": {},
     "output_type": "display_data"
    }
   ],
   "source": [
    "plt.cla()\n",
    "ax = sns.countplot(x = \"Bonus\", data = train, hue = \"Central_Air\")\n",
    "ax.set(xlabel = 'Central Air',\n",
    "       ylabel = 'Frequency',\n",
    "       title = 'Bar Graph of Central Air Availability')\n",
    "plt.show()"
   ]
  },
  {
   "cell_type": "markdown",
   "metadata": {},
   "source": [
    "### Tests of Association - Chi2\n",
    "- this will show the statistical significance of the realtionship between Bonus and Central Air"
   ]
  },
  {
   "cell_type": "code",
   "execution_count": 36,
   "metadata": {},
   "outputs": [
    {
     "data": {
      "text/plain": [
       "Chi2ContingencyResult(statistic=90.6859058522855, pvalue=1.683884397784894e-21, dof=1, expected_freq=array([[  86.79522184,   60.20477816],\n",
       "       [1124.20477816,  779.79522184]]))"
      ]
     },
     "execution_count": 36,
     "metadata": {},
     "output_type": "execute_result"
    }
   ],
   "source": [
    "from scipy.stats import chi2_contingency\n",
    "\n",
    "chi2_contingency(pd.crosstab(index = train['Central_Air'], columns = train['Bonus']), correction = True)"
   ]
  },
  {
   "cell_type": "markdown",
   "metadata": {},
   "source": [
    "### Odds Ratio \n",
    "- when sample sizes are not the same/degrees of freedom are not the same, we use measures of strength of associaiton.\n",
    "- odds ratios: for comparing binary variables only. How much more likely an event in one group is relative to another group. odds =  p/1-p\n",
    "- Cramer's V: nominal variables with any number of categories\n",
    "- Spearman's Correlation: ordinal variables with any number of categories"
   ]
  },
  {
   "cell_type": "code",
   "execution_count": 37,
   "metadata": {},
   "outputs": [
    {
     "data": {
      "text/plain": [
       "SignificanceResult(statistic=22.18334892422825, pvalue=1.0365949500671678e-27)"
      ]
     },
     "execution_count": 37,
     "metadata": {},
     "output_type": "execute_result"
    }
   ],
   "source": [
    "# Odds Ratio uses Fisher's Exact Test in Python\n",
    "from scipy.stats import fisher_exact\n",
    "\n",
    "fisher_exact(pd.crosstab(index = train['Central_Air'], columns = train['Bonus']))"
   ]
  },
  {
   "cell_type": "markdown",
   "metadata": {},
   "source": [
    "##### Interpretation of Fisher's Exact Test as an Odd's Ratio:\n",
    "- statistic is the odds ratio\n",
    "-interpretation: homes without AC are 22.2 times as likely NOT to be Bonus eligibile. Or: homes with AC are 22.2 times as likely to be Bonus eligible"
   ]
  },
  {
   "cell_type": "markdown",
   "metadata": {},
   "source": [
    "#### Alternate: Cramer's V for Nominal Variables with multiple categories:"
   ]
  },
  {
   "cell_type": "code",
   "execution_count": 38,
   "metadata": {},
   "outputs": [
    {
     "data": {
      "text/plain": [
       "0.21219662657018892"
      ]
     },
     "execution_count": 38,
     "metadata": {},
     "output_type": "execute_result"
    }
   ],
   "source": [
    "from scipy.stats.contingency import association\n",
    "\n",
    "association(pd.crosstab(index = train['Central_Air'], columns = train['Bonus']), method = \"cramer\")"
   ]
  },
  {
   "cell_type": "markdown",
   "metadata": {},
   "source": [
    "#### Alternate 2: Spearman's Correlation, for ordinal variables (this includes binary variables)"
   ]
  },
  {
   "cell_type": "code",
   "execution_count": 39,
   "metadata": {},
   "outputs": [
    {
     "data": {
      "text/plain": [
       "SignificanceResult(statistic=0.21219662657018892, pvalue=2.604243816433701e-22)"
      ]
     },
     "execution_count": 39,
     "metadata": {},
     "output_type": "execute_result"
    }
   ],
   "source": [
    "from scipy.stats import spearmanr\n",
    "\n",
    "spearmanr(train['Central_Air'], train['Bonus'])"
   ]
  },
  {
   "cell_type": "markdown",
   "metadata": {},
   "source": [
    "### Binary Logistic Regression\n",
    "- the probability of getting a 1 in a binary variable\n",
    "- to create a linear model, a link function is applied to the probabilites (LOGIT function)\n",
    "- the LOGIT is the log of the odds ratio\n",
    "- logistic regression will use Maximum Likelihood Estimation (MLE) to generate the coefficients in the Logisitc Regression"
   ]
  },
  {
   "cell_type": "code",
   "execution_count": 40,
   "metadata": {},
   "outputs": [
    {
     "data": {
      "text/html": [
       "<table class=\"simpletable\">\n",
       "<caption>Generalized Linear Model Regression Results</caption>\n",
       "<tr>\n",
       "  <th>Dep. Variable:</th>         <td>Bonus</td>      <th>  No. Observations:  </th>  <td>  2051</td> \n",
       "</tr>\n",
       "<tr>\n",
       "  <th>Model:</th>                  <td>GLM</td>       <th>  Df Residuals:      </th>  <td>  2048</td> \n",
       "</tr>\n",
       "<tr>\n",
       "  <th>Model Family:</th>        <td>Binomial</td>     <th>  Df Model:          </th>  <td>     2</td> \n",
       "</tr>\n",
       "<tr>\n",
       "  <th>Link Function:</th>         <td>Logit</td>      <th>  Scale:             </th> <td>  1.0000</td>\n",
       "</tr>\n",
       "<tr>\n",
       "  <th>Method:</th>                <td>IRLS</td>       <th>  Log-Likelihood:    </th> <td> -904.42</td>\n",
       "</tr>\n",
       "<tr>\n",
       "  <th>Date:</th>            <td>Thu, 05 Sep 2024</td> <th>  Deviance:          </th> <td>  1808.8</td>\n",
       "</tr>\n",
       "<tr>\n",
       "  <th>Time:</th>                <td>19:51:50</td>     <th>  Pearson chi2:      </th> <td>1.98e+07</td>\n",
       "</tr>\n",
       "<tr>\n",
       "  <th>No. Iterations:</th>          <td>7</td>        <th>  Pseudo R-squ. (CS):</th>  <td>0.3759</td> \n",
       "</tr>\n",
       "<tr>\n",
       "  <th>Covariance Type:</th>     <td>nonrobust</td>    <th>                     </th>     <td> </td>   \n",
       "</tr>\n",
       "</table>\n",
       "<table class=\"simpletable\">\n",
       "<tr>\n",
       "           <td></td>              <th>coef</th>     <th>std err</th>      <th>z</th>      <th>P>|z|</th>  <th>[0.025</th>    <th>0.975]</th>  \n",
       "</tr>\n",
       "<tr>\n",
       "  <th>Intercept</th>           <td>  -10.3546</td> <td>    0.642</td> <td>  -16.124</td> <td> 0.000</td> <td>  -11.613</td> <td>   -9.096</td>\n",
       "</tr>\n",
       "<tr>\n",
       "  <th>C(Central_Air)[T.Y]</th> <td>    3.9519</td> <td>    0.518</td> <td>    7.629</td> <td> 0.000</td> <td>    2.937</td> <td>    4.967</td>\n",
       "</tr>\n",
       "<tr>\n",
       "  <th>Gr_Liv_Area</th>         <td>    0.0041</td> <td>    0.000</td> <td>   20.959</td> <td> 0.000</td> <td>    0.004</td> <td>    0.004</td>\n",
       "</tr>\n",
       "</table>"
      ],
      "text/latex": [
       "\\begin{center}\n",
       "\\begin{tabular}{lclc}\n",
       "\\toprule\n",
       "\\textbf{Dep. Variable:}       &      Bonus       & \\textbf{  No. Observations:  } &     2051    \\\\\n",
       "\\textbf{Model:}               &       GLM        & \\textbf{  Df Residuals:      } &     2048    \\\\\n",
       "\\textbf{Model Family:}        &     Binomial     & \\textbf{  Df Model:          } &        2    \\\\\n",
       "\\textbf{Link Function:}       &      Logit       & \\textbf{  Scale:             } &    1.0000   \\\\\n",
       "\\textbf{Method:}              &       IRLS       & \\textbf{  Log-Likelihood:    } &   -904.42   \\\\\n",
       "\\textbf{Date:}                & Thu, 05 Sep 2024 & \\textbf{  Deviance:          } &    1808.8   \\\\\n",
       "\\textbf{Time:}                &     19:51:50     & \\textbf{  Pearson chi2:      } &  1.98e+07   \\\\\n",
       "\\textbf{No. Iterations:}      &        7         & \\textbf{  Pseudo R-squ. (CS):} &   0.3759    \\\\\n",
       "\\textbf{Covariance Type:}     &    nonrobust     & \\textbf{                     } &             \\\\\n",
       "\\bottomrule\n",
       "\\end{tabular}\n",
       "\\begin{tabular}{lcccccc}\n",
       "                              & \\textbf{coef} & \\textbf{std err} & \\textbf{z} & \\textbf{P$> |$z$|$} & \\textbf{[0.025} & \\textbf{0.975]}  \\\\\n",
       "\\midrule\n",
       "\\textbf{Intercept}            &     -10.3546  &        0.642     &   -16.124  &         0.000        &      -11.613    &       -9.096     \\\\\n",
       "\\textbf{C(Central\\_Air)[T.Y]} &       3.9519  &        0.518     &     7.629  &         0.000        &        2.937    &        4.967     \\\\\n",
       "\\textbf{Gr\\_Liv\\_Area}        &       0.0041  &        0.000     &    20.959  &         0.000        &        0.004    &        0.004     \\\\\n",
       "\\bottomrule\n",
       "\\end{tabular}\n",
       "%\\caption{Generalized Linear Model Regression Results}\n",
       "\\end{center}"
      ],
      "text/plain": [
       "<class 'statsmodels.iolib.summary.Summary'>\n",
       "\"\"\"\n",
       "                 Generalized Linear Model Regression Results                  \n",
       "==============================================================================\n",
       "Dep. Variable:                  Bonus   No. Observations:                 2051\n",
       "Model:                            GLM   Df Residuals:                     2048\n",
       "Model Family:                Binomial   Df Model:                            2\n",
       "Link Function:                  Logit   Scale:                          1.0000\n",
       "Method:                          IRLS   Log-Likelihood:                -904.42\n",
       "Date:                Thu, 05 Sep 2024   Deviance:                       1808.8\n",
       "Time:                        19:51:50   Pearson chi2:                 1.98e+07\n",
       "No. Iterations:                     7   Pseudo R-squ. (CS):             0.3759\n",
       "Covariance Type:            nonrobust                                         \n",
       "=======================================================================================\n",
       "                          coef    std err          z      P>|z|      [0.025      0.975]\n",
       "---------------------------------------------------------------------------------------\n",
       "Intercept             -10.3546      0.642    -16.124      0.000     -11.613      -9.096\n",
       "C(Central_Air)[T.Y]     3.9519      0.518      7.629      0.000       2.937       4.967\n",
       "Gr_Liv_Area             0.0041      0.000     20.959      0.000       0.004       0.004\n",
       "=======================================================================================\n",
       "\"\"\""
      ]
     },
     "execution_count": 40,
     "metadata": {},
     "output_type": "execute_result"
    }
   ],
   "source": [
    "from statsmodels.genmod.families import Binomial\n",
    "from statsmodels.genmod.generalized_linear_model import GLM\n",
    "\n",
    "# in python, the C function converts the categorical variable (Central_Air) into usable design variables\n",
    "# family = Binomial() makes this a Logistic Regression, instead of another type of Linear Model (OLS for example)\n",
    "log_model = GLM.from_formula('Bonus ~ Gr_Liv_Area + C(Central_Air)', data = train, family = Binomial()).fit()\n",
    "\n",
    "log_model.summary()"
   ]
  },
  {
   "cell_type": "markdown",
   "metadata": {},
   "source": [
    "##### Interpretation of the GLM Model Summary:\n",
    "- the equation is provided in the coefficient column\n",
    "- p-values are provided as well. They all fall under the threshold set here: 0.005"
   ]
  },
  {
   "cell_type": "markdown",
   "metadata": {},
   "source": [
    "##### Checking a Categorical Variable for significance in the Model, when the variable has multiple levels:"
   ]
  },
  {
   "cell_type": "code",
   "execution_count": 47,
   "metadata": {},
   "outputs": [
    {
     "name": "stdout",
     "output_type": "stream",
     "text": [
      "Warning: Maximum number of iterations has been exceeded.\n",
      "         Current function value: 0.425703\n",
      "         Iterations: 35\n"
     ]
    },
    {
     "name": "stderr",
     "output_type": "stream",
     "text": [
      "/opt/anaconda3/lib/python3.11/site-packages/statsmodels/base/model.py:607: ConvergenceWarning: Maximum Likelihood optimization failed to converge. Check mle_retvals\n",
      "  warnings.warn(\"Maximum Likelihood optimization failed to \"\n"
     ]
    }
   ],
   "source": [
    "import statsmodels.formula.api as smf\n",
    "\n",
    "reduced_ll = log_model.llf\n",
    "full_ll = smf.logit(\"Bonus ~ Gr_Liv_Area + C(Central_Air) + C(Fireplaces)\", data = train).fit().llf"
   ]
  },
  {
   "cell_type": "code",
   "execution_count": 48,
   "metadata": {},
   "outputs": [
    {
     "name": "stdout",
     "output_type": "stream",
     "text": [
      "62.614122085892404\n",
      "8.181135706922902e-13\n"
     ]
    }
   ],
   "source": [
    "#now we compare the model with the addition of Fireplaces (full_ll above), against the original model w/o the Fireplaces variable. This will generate a likelihood ratio and a p-value\n",
    "import scipy as sp\n",
    "\n",
    "LR_statistic = -2*(reduced_ll-full_ll)\n",
    "\n",
    "print(LR_statistic)\n",
    "# the 4 is 4 degrees of freedom for a variable with 5 levels\n",
    "p_val = sp.stats.chi2.sf(LR_statistic, 4)\n",
    "\n",
    "print(p_val)"
   ]
  },
  {
   "cell_type": "markdown",
   "metadata": {},
   "source": [
    "#### Get the Odds Ratio for Each Element in a LR Model:"
   ]
  },
  {
   "cell_type": "code",
   "execution_count": 49,
   "metadata": {},
   "outputs": [
    {
     "data": {
      "text/plain": [
       "C(Central_Air)[T.Y]    52.034498\n",
       "Gr_Liv_Area             1.004121\n",
       "dtype: float64"
      ]
     },
     "execution_count": 49,
     "metadata": {},
     "output_type": "execute_result"
    }
   ],
   "source": [
    "import numpy as np\n",
    "\n",
    "np.exp(log_model.params[1:3])"
   ]
  },
  {
   "cell_type": "code",
   "execution_count": 50,
   "metadata": {},
   "outputs": [
    {
     "data": {
      "text/plain": [
       "C(Central_Air)[T.Y]    5103.449844\n",
       "Gr_Liv_Area               0.412098\n",
       "dtype: float64"
      ]
     },
     "execution_count": 50,
     "metadata": {},
     "output_type": "execute_result"
    }
   ],
   "source": [
    "# alternate: odds ratio expressed in percentages:\n",
    "\n",
    "100*(np.exp(log_model.params[1:3]) - 1)"
   ]
  },
  {
   "cell_type": "markdown",
   "metadata": {},
   "source": [
    "### Testing Assumptions:\n",
    "- independence\n",
    "- Continuous Variables: linearity with the LOGIT. Test with General Additive Model (GAM). If it fails: bin the variable or use the GAM instead."
   ]
  },
  {
   "cell_type": "code",
   "execution_count": 53,
   "metadata": {},
   "outputs": [
    {
     "data": {
      "text/html": [
       "<table class=\"simpletable\">\n",
       "<caption>Generalized Linear Model Regression Results</caption>\n",
       "<tr>\n",
       "  <th>Dep. Variable:</th>         <td>Bonus</td>      <th>  No. Observations:  </th>  <td>  2051</td> \n",
       "</tr>\n",
       "<tr>\n",
       "  <th>Model:</th>                <td>GLMGam</td>      <th>  Df Residuals:      </th> <td> 2045.00</td>\n",
       "</tr>\n",
       "<tr>\n",
       "  <th>Model Family:</th>        <td>Binomial</td>     <th>  Df Model:          </th> <td>    5.00</td>\n",
       "</tr>\n",
       "<tr>\n",
       "  <th>Link Function:</th>         <td>Logit</td>      <th>  Scale:             </th> <td>  1.0000</td>\n",
       "</tr>\n",
       "<tr>\n",
       "  <th>Method:</th>                <td>PIRLS</td>      <th>  Log-Likelihood:    </th> <td> -846.65</td>\n",
       "</tr>\n",
       "<tr>\n",
       "  <th>Date:</th>            <td>Thu, 05 Sep 2024</td> <th>  Deviance:          </th> <td>  1693.3</td>\n",
       "</tr>\n",
       "<tr>\n",
       "  <th>Time:</th>                <td>20:29:40</td>     <th>  Pearson chi2:      </th> <td>1.89e+03</td>\n",
       "</tr>\n",
       "<tr>\n",
       "  <th>No. Iterations:</th>         <td>10</td>        <th>  Pseudo R-squ. (CS):</th>  <td>0.4101</td> \n",
       "</tr>\n",
       "<tr>\n",
       "  <th>Covariance Type:</th>     <td>nonrobust</td>    <th>                     </th>     <td> </td>   \n",
       "</tr>\n",
       "</table>\n",
       "<table class=\"simpletable\">\n",
       "<tr>\n",
       "           <td></td>              <th>coef</th>     <th>std err</th>      <th>z</th>      <th>P>|z|</th>  <th>[0.025</th>    <th>0.975]</th>  \n",
       "</tr>\n",
       "<tr>\n",
       "  <th>Intercept</th>           <td>  -58.7286</td> <td>   11.955</td> <td>   -4.913</td> <td> 0.000</td> <td>  -82.160</td> <td>  -35.298</td>\n",
       "</tr>\n",
       "<tr>\n",
       "  <th>C(Central_Air)[T.Y]</th> <td>    3.5444</td> <td>    0.492</td> <td>    7.207</td> <td> 0.000</td> <td>    2.581</td> <td>    4.508</td>\n",
       "</tr>\n",
       "<tr>\n",
       "  <th>Gr_Liv_Area_s0</th>      <td>   52.1509</td> <td>   12.337</td> <td>    4.227</td> <td> 0.000</td> <td>   27.970</td> <td>   76.332</td>\n",
       "</tr>\n",
       "<tr>\n",
       "  <th>Gr_Liv_Area_s1</th>      <td>   59.8710</td> <td>   11.259</td> <td>    5.318</td> <td> 0.000</td> <td>   37.803</td> <td>   81.938</td>\n",
       "</tr>\n",
       "<tr>\n",
       "  <th>Gr_Liv_Area_s2</th>      <td>   60.0950</td> <td>   13.303</td> <td>    4.517</td> <td> 0.000</td> <td>   34.022</td> <td>   86.168</td>\n",
       "</tr>\n",
       "<tr>\n",
       "  <th>Gr_Liv_Area_s3</th>      <td>   54.0120</td> <td>   11.879</td> <td>    4.547</td> <td> 0.000</td> <td>   30.730</td> <td>   77.294</td>\n",
       "</tr>\n",
       "</table>"
      ],
      "text/latex": [
       "\\begin{center}\n",
       "\\begin{tabular}{lclc}\n",
       "\\toprule\n",
       "\\textbf{Dep. Variable:}       &      Bonus       & \\textbf{  No. Observations:  } &     2051    \\\\\n",
       "\\textbf{Model:}               &      GLMGam      & \\textbf{  Df Residuals:      } &   2045.00   \\\\\n",
       "\\textbf{Model Family:}        &     Binomial     & \\textbf{  Df Model:          } &      5.00   \\\\\n",
       "\\textbf{Link Function:}       &      Logit       & \\textbf{  Scale:             } &    1.0000   \\\\\n",
       "\\textbf{Method:}              &      PIRLS       & \\textbf{  Log-Likelihood:    } &   -846.65   \\\\\n",
       "\\textbf{Date:}                & Thu, 05 Sep 2024 & \\textbf{  Deviance:          } &    1693.3   \\\\\n",
       "\\textbf{Time:}                &     20:29:40     & \\textbf{  Pearson chi2:      } &  1.89e+03   \\\\\n",
       "\\textbf{No. Iterations:}      &        10        & \\textbf{  Pseudo R-squ. (CS):} &   0.4101    \\\\\n",
       "\\textbf{Covariance Type:}     &    nonrobust     & \\textbf{                     } &             \\\\\n",
       "\\bottomrule\n",
       "\\end{tabular}\n",
       "\\begin{tabular}{lcccccc}\n",
       "                              & \\textbf{coef} & \\textbf{std err} & \\textbf{z} & \\textbf{P$> |$z$|$} & \\textbf{[0.025} & \\textbf{0.975]}  \\\\\n",
       "\\midrule\n",
       "\\textbf{Intercept}            &     -58.7286  &       11.955     &    -4.913  &         0.000        &      -82.160    &      -35.298     \\\\\n",
       "\\textbf{C(Central\\_Air)[T.Y]} &       3.5444  &        0.492     &     7.207  &         0.000        &        2.581    &        4.508     \\\\\n",
       "\\textbf{Gr\\_Liv\\_Area\\_s0}    &      52.1509  &       12.337     &     4.227  &         0.000        &       27.970    &       76.332     \\\\\n",
       "\\textbf{Gr\\_Liv\\_Area\\_s1}    &      59.8710  &       11.259     &     5.318  &         0.000        &       37.803    &       81.938     \\\\\n",
       "\\textbf{Gr\\_Liv\\_Area\\_s2}    &      60.0950  &       13.303     &     4.517  &         0.000        &       34.022    &       86.168     \\\\\n",
       "\\textbf{Gr\\_Liv\\_Area\\_s3}    &      54.0120  &       11.879     &     4.547  &         0.000        &       30.730    &       77.294     \\\\\n",
       "\\bottomrule\n",
       "\\end{tabular}\n",
       "%\\caption{Generalized Linear Model Regression Results}\n",
       "\\end{center}"
      ],
      "text/plain": [
       "<class 'statsmodels.iolib.summary.Summary'>\n",
       "\"\"\"\n",
       "                 Generalized Linear Model Regression Results                  \n",
       "==============================================================================\n",
       "Dep. Variable:                  Bonus   No. Observations:                 2051\n",
       "Model:                         GLMGam   Df Residuals:                  2045.00\n",
       "Model Family:                Binomial   Df Model:                         5.00\n",
       "Link Function:                  Logit   Scale:                          1.0000\n",
       "Method:                         PIRLS   Log-Likelihood:                -846.65\n",
       "Date:                Thu, 05 Sep 2024   Deviance:                       1693.3\n",
       "Time:                        20:29:40   Pearson chi2:                 1.89e+03\n",
       "No. Iterations:                    10   Pseudo R-squ. (CS):             0.4101\n",
       "Covariance Type:            nonrobust                                         \n",
       "=======================================================================================\n",
       "                          coef    std err          z      P>|z|      [0.025      0.975]\n",
       "---------------------------------------------------------------------------------------\n",
       "Intercept             -58.7286     11.955     -4.913      0.000     -82.160     -35.298\n",
       "C(Central_Air)[T.Y]     3.5444      0.492      7.207      0.000       2.581       4.508\n",
       "Gr_Liv_Area_s0         52.1509     12.337      4.227      0.000      27.970      76.332\n",
       "Gr_Liv_Area_s1         59.8710     11.259      5.318      0.000      37.803      81.938\n",
       "Gr_Liv_Area_s2         60.0950     13.303      4.517      0.000      34.022      86.168\n",
       "Gr_Liv_Area_s3         54.0120     11.879      4.547      0.000      30.730      77.294\n",
       "=======================================================================================\n",
       "\"\"\""
      ]
     },
     "execution_count": 53,
     "metadata": {},
     "output_type": "execute_result"
    }
   ],
   "source": [
    "# test the continuous variables for Linearity, with GAM using splines\n",
    "\n",
    "from statsmodels.gam.api import GLMGam, BSplines\n",
    "from statsmodels.genmod.families import Binomial\n",
    "\n",
    "x_spline = train['Gr_Liv_Area']\n",
    "\n",
    "bs = BSplines(x_spline, df = 5, degree = 3)\n",
    "\n",
    "gam_model = GLMGam.from_formula('Bonus ~ C(Central_Air)', data = train, smoother = bs, family = Binomial()).fit()\n",
    "\n",
    "gam_model.summary()"
   ]
  },
  {
   "cell_type": "code",
   "execution_count": 54,
   "metadata": {},
   "outputs": [
    {
     "data": {
      "image/png": "[encoded data removed]",
      "text/plain": [
       "<Figure size 640x480 with 1 Axes>"
      ]
     },
     "metadata": {},
     "output_type": "display_data"
    }
   ],
   "source": [
    "# now we can plot it, to visually check it for linearity. It hsould look like a straight line. But it won't.\n",
    "gam_model.plot_partial(smooth_index = 0)\n",
    "plt.show()"
   ]
  },
  {
   "cell_type": "markdown",
   "metadata": {},
   "source": [
    "#### Formal Test for Linearity with the Logit, for Gr_Liv_Area:\n",
    "- the null hypothesis is that the two lines are the same, ie that the GAM of Gr_Liv_Area is linear. The low p-value means we reject the null hypothesis, and the assumption of linearity fails."
   ]
  },
  {
   "cell_type": "code",
   "execution_count": 55,
   "metadata": {},
   "outputs": [
    {
     "name": "stdout",
     "output_type": "stream",
     "text": [
      "115.53934045802157\n"
     ]
    }
   ],
   "source": [
    "reduced_ll = log_model.llf\n",
    "full_ll = gam_model.llf\n",
    "\n",
    "LR_statistic = -2*(reduced_ll-full_ll)\n",
    "\n",
    "print(LR_statistic)"
   ]
  },
  {
   "cell_type": "code",
   "execution_count": 56,
   "metadata": {},
   "outputs": [
    {
     "name": "stdout",
     "output_type": "stream",
     "text": [
      "7.046398845304335e-25\n"
     ]
    }
   ],
   "source": [
    "# we reject the null hypothesis, and the assumption of linearity fails. We will need to bin this variable later.\n",
    "p_val = sp.stats.chi2.sf(LR_statistic, 3)\n",
    "\n",
    "print(p_val)"
   ]
  },
  {
   "cell_type": "markdown",
   "metadata": {},
   "source": [
    "#### Binning a Continuous Variable that has failed Linearity"
   ]
  },
  {
   "cell_type": "code",
   "execution_count": 57,
   "metadata": {},
   "outputs": [],
   "source": [
    "import pandas as pd\n",
    "\n",
    "# now bin the variable\n",
    "train['Gr_Liv_Area_BIN'] = pd.cut(train['Gr_Liv_Area'], [0, 1000, 1500, 3000, 4500, 10000])"
   ]
  },
  {
   "cell_type": "code",
   "execution_count": 58,
   "metadata": {},
   "outputs": [
    {
     "name": "stdout",
     "output_type": "stream",
     "text": [
      "Warning: Maximum number of iterations has been exceeded.\n",
      "         Current function value: 0.461249\n",
      "         Iterations: 35\n"
     ]
    },
    {
     "name": "stderr",
     "output_type": "stream",
     "text": [
      "/opt/anaconda3/lib/python3.11/site-packages/statsmodels/base/model.py:607: ConvergenceWarning: Maximum Likelihood optimization failed to converge. Check mle_retvals\n",
      "  warnings.warn(\"Maximum Likelihood optimization failed to \"\n"
     ]
    }
   ],
   "source": [
    "# rebuild the model with binned variable\n",
    "log_model_bin = smf.logit(\"Bonus ~ C(Gr_Liv_Area_BIN) + C(Central_Air)\", data = train).fit()"
   ]
  },
  {
   "cell_type": "code",
   "execution_count": 59,
   "metadata": {},
   "outputs": [
    {
     "data": {
      "text/html": [
       "<table class=\"simpletable\">\n",
       "<caption>Logit Regression Results</caption>\n",
       "<tr>\n",
       "  <th>Dep. Variable:</th>         <td>Bonus</td>      <th>  No. Observations:  </th>   <td>  2051</td>  \n",
       "</tr>\n",
       "<tr>\n",
       "  <th>Model:</th>                 <td>Logit</td>      <th>  Df Residuals:      </th>   <td>  2045</td>  \n",
       "</tr>\n",
       "<tr>\n",
       "  <th>Method:</th>                 <td>MLE</td>       <th>  Df Model:          </th>   <td>     5</td>  \n",
       "</tr>\n",
       "<tr>\n",
       "  <th>Date:</th>            <td>Thu, 05 Sep 2024</td> <th>  Pseudo R-squ.:     </th>   <td>0.3184</td>  \n",
       "</tr>\n",
       "<tr>\n",
       "  <th>Time:</th>                <td>20:39:30</td>     <th>  Log-Likelihood:    </th>  <td> -946.02</td> \n",
       "</tr>\n",
       "<tr>\n",
       "  <th>converged:</th>             <td>False</td>      <th>  LL-Null:           </th>  <td> -1387.9</td> \n",
       "</tr>\n",
       "<tr>\n",
       "  <th>Covariance Type:</th>     <td>nonrobust</td>    <th>  LLR p-value:       </th> <td>8.675e-189</td>\n",
       "</tr>\n",
       "</table>\n",
       "<table class=\"simpletable\">\n",
       "<tr>\n",
       "                               <td></td>                                  <th>coef</th>     <th>std err</th>      <th>z</th>      <th>P>|z|</th>  <th>[0.025</th>    <th>0.975]</th>  \n",
       "</tr>\n",
       "<tr>\n",
       "  <th>Intercept</th>                                                   <td>   -8.8210</td> <td>    1.107</td> <td>   -7.972</td> <td> 0.000</td> <td>  -10.990</td> <td>   -6.652</td>\n",
       "</tr>\n",
       "<tr>\n",
       "  <th>C(Gr_Liv_Area_BIN)[T.Interval(1000, 1500, closed='right')]</th>  <td>    4.5121</td> <td>    1.005</td> <td>    4.489</td> <td> 0.000</td> <td>    2.542</td> <td>    6.482</td>\n",
       "</tr>\n",
       "<tr>\n",
       "  <th>C(Gr_Liv_Area_BIN)[T.Interval(1500, 3000, closed='right')]</th>  <td>    6.6437</td> <td>    1.005</td> <td>    6.611</td> <td> 0.000</td> <td>    4.674</td> <td>    8.613</td>\n",
       "</tr>\n",
       "<tr>\n",
       "  <th>C(Gr_Liv_Area_BIN)[T.Interval(3000, 4500, closed='right')]</th>  <td>   29.7953</td> <td> 4.49e+04</td> <td>    0.001</td> <td> 0.999</td> <td> -8.8e+04</td> <td>  8.8e+04</td>\n",
       "</tr>\n",
       "<tr>\n",
       "  <th>C(Gr_Liv_Area_BIN)[T.Interval(4500, 10000, closed='right')]</th> <td>    5.5986</td> <td>    1.733</td> <td>    3.230</td> <td> 0.001</td> <td>    2.202</td> <td>    8.995</td>\n",
       "</tr>\n",
       "<tr>\n",
       "  <th>C(Central_Air)[T.Y]</th>                                         <td>    3.2224</td> <td>    0.473</td> <td>    6.807</td> <td> 0.000</td> <td>    2.295</td> <td>    4.150</td>\n",
       "</tr>\n",
       "</table>"
      ],
      "text/latex": [
       "\\begin{center}\n",
       "\\begin{tabular}{lclc}\n",
       "\\toprule\n",
       "\\textbf{Dep. Variable:}                                                 &      Bonus       & \\textbf{  No. Observations:  } &     2051    \\\\\n",
       "\\textbf{Model:}                                                         &      Logit       & \\textbf{  Df Residuals:      } &     2045    \\\\\n",
       "\\textbf{Method:}                                                        &       MLE        & \\textbf{  Df Model:          } &        5    \\\\\n",
       "\\textbf{Date:}                                                          & Thu, 05 Sep 2024 & \\textbf{  Pseudo R-squ.:     } &   0.3184    \\\\\n",
       "\\textbf{Time:}                                                          &     20:39:30     & \\textbf{  Log-Likelihood:    } &   -946.02   \\\\\n",
       "\\textbf{converged:}                                                     &      False       & \\textbf{  LL-Null:           } &   -1387.9   \\\\\n",
       "\\textbf{Covariance Type:}                                               &    nonrobust     & \\textbf{  LLR p-value:       } & 8.675e-189  \\\\\n",
       "\\bottomrule\n",
       "\\end{tabular}\n",
       "\\begin{tabular}{lcccccc}\n",
       "                                                                        & \\textbf{coef} & \\textbf{std err} & \\textbf{z} & \\textbf{P$> |$z$|$} & \\textbf{[0.025} & \\textbf{0.975]}  \\\\\n",
       "\\midrule\n",
       "\\textbf{Intercept}                                                      &      -8.8210  &        1.107     &    -7.972  &         0.000        &      -10.990    &       -6.652     \\\\\n",
       "\\textbf{C(Gr\\_Liv\\_Area\\_BIN)[T.Interval(1000, 1500, closed='right')]}  &       4.5121  &        1.005     &     4.489  &         0.000        &        2.542    &        6.482     \\\\\n",
       "\\textbf{C(Gr\\_Liv\\_Area\\_BIN)[T.Interval(1500, 3000, closed='right')]}  &       6.6437  &        1.005     &     6.611  &         0.000        &        4.674    &        8.613     \\\\\n",
       "\\textbf{C(Gr\\_Liv\\_Area\\_BIN)[T.Interval(3000, 4500, closed='right')]}  &      29.7953  &     4.49e+04     &     0.001  &         0.999        &     -8.8e+04    &      8.8e+04     \\\\\n",
       "\\textbf{C(Gr\\_Liv\\_Area\\_BIN)[T.Interval(4500, 10000, closed='right')]} &       5.5986  &        1.733     &     3.230  &         0.001        &        2.202    &        8.995     \\\\\n",
       "\\textbf{C(Central\\_Air)[T.Y]}                                           &       3.2224  &        0.473     &     6.807  &         0.000        &        2.295    &        4.150     \\\\\n",
       "\\bottomrule\n",
       "\\end{tabular}\n",
       "%\\caption{Logit Regression Results}\n",
       "\\end{center}"
      ],
      "text/plain": [
       "<class 'statsmodels.iolib.summary.Summary'>\n",
       "\"\"\"\n",
       "                           Logit Regression Results                           \n",
       "==============================================================================\n",
       "Dep. Variable:                  Bonus   No. Observations:                 2051\n",
       "Model:                          Logit   Df Residuals:                     2045\n",
       "Method:                           MLE   Df Model:                            5\n",
       "Date:                Thu, 05 Sep 2024   Pseudo R-squ.:                  0.3184\n",
       "Time:                        20:39:30   Log-Likelihood:                -946.02\n",
       "converged:                      False   LL-Null:                       -1387.9\n",
       "Covariance Type:            nonrobust   LLR p-value:                8.675e-189\n",
       "===============================================================================================================================\n",
       "                                                                  coef    std err          z      P>|z|      [0.025      0.975]\n",
       "-------------------------------------------------------------------------------------------------------------------------------\n",
       "Intercept                                                      -8.8210      1.107     -7.972      0.000     -10.990      -6.652\n",
       "C(Gr_Liv_Area_BIN)[T.Interval(1000, 1500, closed='right')]      4.5121      1.005      4.489      0.000       2.542       6.482\n",
       "C(Gr_Liv_Area_BIN)[T.Interval(1500, 3000, closed='right')]      6.6437      1.005      6.611      0.000       4.674       8.613\n",
       "C(Gr_Liv_Area_BIN)[T.Interval(3000, 4500, closed='right')]     29.7953   4.49e+04      0.001      0.999    -8.8e+04     8.8e+04\n",
       "C(Gr_Liv_Area_BIN)[T.Interval(4500, 10000, closed='right')]     5.5986      1.733      3.230      0.001       2.202       8.995\n",
       "C(Central_Air)[T.Y]                                             3.2224      0.473      6.807      0.000       2.295       4.150\n",
       "===============================================================================================================================\n",
       "\"\"\""
      ]
     },
     "execution_count": 59,
     "metadata": {},
     "output_type": "execute_result"
    }
   ],
   "source": [
    "# print the model summary. the Binning worked; the Gr_liv_Area binned values came back as significant in the model summary\n",
    "log_model_bin.summary()"
   ]
  },
  {
   "cell_type": "markdown",
   "metadata": {},
   "source": [
    "#### Predictions\n",
    "- we want the predicted probabilities (0s and 1s)"
   ]
  },
  {
   "cell_type": "code",
   "execution_count": 60,
   "metadata": {},
   "outputs": [
    {
     "name": "stdout",
     "output_type": "stream",
     "text": [
      "   Gr_Liv_Area Central_Air      Pred\n",
      "0         1500           N  0.014982\n",
      "1         2000           Y  0.860844\n",
      "2         2250           Y  0.945342\n",
      "3         2500           N  0.481676\n",
      "4         3500           Y  0.999662\n"
     ]
    }
   ],
   "source": [
    "# generate a new dataset to make predictions on to score the model. In a real scenario, scoring woudl occur on the validation and test sets.\n",
    "new_data = [[1500, 'N'], [2000, 'Y'], [2250, 'Y'], [2500, 'N'], [3500, 'Y']]\n",
    "\n",
    "new_ames = pd.DataFrame(new_data, columns = ['Gr_Liv_Area', 'Central_Air'])\n",
    "\n",
    "#predict the probability of a 1 for each observation\n",
    "new_ames['Pred'] = log_model.predict(new_ames)\n",
    "\n",
    "print(new_ames)"
   ]
  },
  {
   "cell_type": "code",
   "execution_count": 61,
   "metadata": {},
   "outputs": [
    {
     "name": "stderr",
     "output_type": "stream",
     "text": [
      "/opt/anaconda3/lib/python3.11/site-packages/statsmodels/genmod/generalized_linear_model.py:1257: PerfectSeparationWarning: Perfect separation or prediction detected, parameter may not be identified\n",
      "  cov_p = np.linalg.inv(-self.hessian(rslt.params, observed=oim)) / scale\n",
      "/opt/anaconda3/lib/python3.11/site-packages/statsmodels/genmod/generalized_linear_model.py:1257: PerfectSeparationWarning: Perfect separation or prediction detected, parameter may not be identified\n",
      "  cov_p = np.linalg.inv(-self.hessian(rslt.params, observed=oim)) / scale\n",
      "/opt/anaconda3/lib/python3.11/site-packages/statsmodels/genmod/generalized_linear_model.py:1257: PerfectSeparationWarning: Perfect separation or prediction detected, parameter may not be identified\n",
      "  cov_p = np.linalg.inv(-self.hessian(rslt.params, observed=oim)) / scale\n",
      "/opt/anaconda3/lib/python3.11/site-packages/statsmodels/genmod/generalized_linear_model.py:1257: PerfectSeparationWarning: Perfect separation or prediction detected, parameter may not be identified\n",
      "  cov_p = np.linalg.inv(-self.hessian(rslt.params, observed=oim)) / scale\n",
      "/opt/anaconda3/lib/python3.11/site-packages/statsmodels/genmod/generalized_linear_model.py:1257: PerfectSeparationWarning: Perfect separation or prediction detected, parameter may not be identified\n",
      "  cov_p = np.linalg.inv(-self.hessian(rslt.params, observed=oim)) / scale\n",
      "/opt/anaconda3/lib/python3.11/site-packages/statsmodels/genmod/generalized_linear_model.py:1257: PerfectSeparationWarning: Perfect separation or prediction detected, parameter may not be identified\n",
      "  cov_p = np.linalg.inv(-self.hessian(rslt.params, observed=oim)) / scale\n",
      "/opt/anaconda3/lib/python3.11/site-packages/statsmodels/genmod/generalized_linear_model.py:1257: PerfectSeparationWarning: Perfect separation or prediction detected, parameter may not be identified\n",
      "  cov_p = np.linalg.inv(-self.hessian(rslt.params, observed=oim)) / scale\n",
      "/opt/anaconda3/lib/python3.11/site-packages/statsmodels/genmod/generalized_linear_model.py:1257: PerfectSeparationWarning: Perfect separation or prediction detected, parameter may not be identified\n",
      "  cov_p = np.linalg.inv(-self.hessian(rslt.params, observed=oim)) / scale\n",
      "/opt/anaconda3/lib/python3.11/site-packages/statsmodels/genmod/generalized_linear_model.py:1257: PerfectSeparationWarning: Perfect separation or prediction detected, parameter may not be identified\n",
      "  cov_p = np.linalg.inv(-self.hessian(rslt.params, observed=oim)) / scale\n",
      "/opt/anaconda3/lib/python3.11/site-packages/statsmodels/genmod/generalized_linear_model.py:1257: PerfectSeparationWarning: Perfect separation or prediction detected, parameter may not be identified\n",
      "  cov_p = np.linalg.inv(-self.hessian(rslt.params, observed=oim)) / scale\n",
      "/opt/anaconda3/lib/python3.11/site-packages/statsmodels/genmod/generalized_linear_model.py:1257: PerfectSeparationWarning: Perfect separation or prediction detected, parameter may not be identified\n",
      "  cov_p = np.linalg.inv(-self.hessian(rslt.params, observed=oim)) / scale\n",
      "/opt/anaconda3/lib/python3.11/site-packages/statsmodels/genmod/generalized_linear_model.py:1257: PerfectSeparationWarning: Perfect separation or prediction detected, parameter may not be identified\n",
      "  cov_p = np.linalg.inv(-self.hessian(rslt.params, observed=oim)) / scale\n",
      "/opt/anaconda3/lib/python3.11/site-packages/statsmodels/genmod/generalized_linear_model.py:1257: PerfectSeparationWarning: Perfect separation or prediction detected, parameter may not be identified\n",
      "  cov_p = np.linalg.inv(-self.hessian(rslt.params, observed=oim)) / scale\n",
      "/opt/anaconda3/lib/python3.11/site-packages/statsmodels/genmod/generalized_linear_model.py:1257: PerfectSeparationWarning: Perfect separation or prediction detected, parameter may not be identified\n",
      "  cov_p = np.linalg.inv(-self.hessian(rslt.params, observed=oim)) / scale\n",
      "/opt/anaconda3/lib/python3.11/site-packages/statsmodels/genmod/generalized_linear_model.py:1257: PerfectSeparationWarning: Perfect separation or prediction detected, parameter may not be identified\n",
      "  cov_p = np.linalg.inv(-self.hessian(rslt.params, observed=oim)) / scale\n",
      "/opt/anaconda3/lib/python3.11/site-packages/statsmodels/genmod/generalized_linear_model.py:1257: PerfectSeparationWarning: Perfect separation or prediction detected, parameter may not be identified\n",
      "  cov_p = np.linalg.inv(-self.hessian(rslt.params, observed=oim)) / scale\n",
      "/opt/anaconda3/lib/python3.11/site-packages/statsmodels/genmod/generalized_linear_model.py:1257: PerfectSeparationWarning: Perfect separation or prediction detected, parameter may not be identified\n",
      "  cov_p = np.linalg.inv(-self.hessian(rslt.params, observed=oim)) / scale\n",
      "/opt/anaconda3/lib/python3.11/site-packages/statsmodels/genmod/generalized_linear_model.py:1257: PerfectSeparationWarning: Perfect separation or prediction detected, parameter may not be identified\n",
      "  cov_p = np.linalg.inv(-self.hessian(rslt.params, observed=oim)) / scale\n",
      "/opt/anaconda3/lib/python3.11/site-packages/statsmodels/genmod/generalized_linear_model.py:1257: PerfectSeparationWarning: Perfect separation or prediction detected, parameter may not be identified\n",
      "  cov_p = np.linalg.inv(-self.hessian(rslt.params, observed=oim)) / scale\n",
      "/opt/anaconda3/lib/python3.11/site-packages/statsmodels/genmod/generalized_linear_model.py:1257: PerfectSeparationWarning: Perfect separation or prediction detected, parameter may not be identified\n",
      "  cov_p = np.linalg.inv(-self.hessian(rslt.params, observed=oim)) / scale\n",
      "/opt/anaconda3/lib/python3.11/site-packages/statsmodels/genmod/generalized_linear_model.py:1257: PerfectSeparationWarning: Perfect separation or prediction detected, parameter may not be identified\n",
      "  cov_p = np.linalg.inv(-self.hessian(rslt.params, observed=oim)) / scale\n",
      "/opt/anaconda3/lib/python3.11/site-packages/statsmodels/genmod/generalized_linear_model.py:1257: PerfectSeparationWarning: Perfect separation or prediction detected, parameter may not be identified\n",
      "  cov_p = np.linalg.inv(-self.hessian(rslt.params, observed=oim)) / scale\n",
      "/opt/anaconda3/lib/python3.11/site-packages/statsmodels/genmod/generalized_linear_model.py:1257: PerfectSeparationWarning: Perfect separation or prediction detected, parameter may not be identified\n",
      "  cov_p = np.linalg.inv(-self.hessian(rslt.params, observed=oim)) / scale\n",
      "/opt/anaconda3/lib/python3.11/site-packages/statsmodels/genmod/generalized_linear_model.py:1257: PerfectSeparationWarning: Perfect separation or prediction detected, parameter may not be identified\n",
      "  cov_p = np.linalg.inv(-self.hessian(rslt.params, observed=oim)) / scale\n",
      "/opt/anaconda3/lib/python3.11/site-packages/statsmodels/genmod/generalized_linear_model.py:1257: PerfectSeparationWarning: Perfect separation or prediction detected, parameter may not be identified\n",
      "  cov_p = np.linalg.inv(-self.hessian(rslt.params, observed=oim)) / scale\n",
      "/opt/anaconda3/lib/python3.11/site-packages/statsmodels/genmod/generalized_linear_model.py:1257: PerfectSeparationWarning: Perfect separation or prediction detected, parameter may not be identified\n",
      "  cov_p = np.linalg.inv(-self.hessian(rslt.params, observed=oim)) / scale\n",
      "/opt/anaconda3/lib/python3.11/site-packages/statsmodels/genmod/generalized_linear_model.py:1257: PerfectSeparationWarning: Perfect separation or prediction detected, parameter may not be identified\n",
      "  cov_p = np.linalg.inv(-self.hessian(rslt.params, observed=oim)) / scale\n",
      "/opt/anaconda3/lib/python3.11/site-packages/statsmodels/genmod/generalized_linear_model.py:1257: PerfectSeparationWarning: Perfect separation or prediction detected, parameter may not be identified\n",
      "  cov_p = np.linalg.inv(-self.hessian(rslt.params, observed=oim)) / scale\n",
      "/opt/anaconda3/lib/python3.11/site-packages/statsmodels/genmod/generalized_linear_model.py:1257: PerfectSeparationWarning: Perfect separation or prediction detected, parameter may not be identified\n",
      "  cov_p = np.linalg.inv(-self.hessian(rslt.params, observed=oim)) / scale\n",
      "/opt/anaconda3/lib/python3.11/site-packages/statsmodels/genmod/generalized_linear_model.py:1257: PerfectSeparationWarning: Perfect separation or prediction detected, parameter may not be identified\n",
      "  cov_p = np.linalg.inv(-self.hessian(rslt.params, observed=oim)) / scale\n",
      "/opt/anaconda3/lib/python3.11/site-packages/statsmodels/genmod/generalized_linear_model.py:1257: PerfectSeparationWarning: Perfect separation or prediction detected, parameter may not be identified\n",
      "  cov_p = np.linalg.inv(-self.hessian(rslt.params, observed=oim)) / scale\n",
      "/opt/anaconda3/lib/python3.11/site-packages/statsmodels/genmod/generalized_linear_model.py:1257: PerfectSeparationWarning: Perfect separation or prediction detected, parameter may not be identified\n",
      "  cov_p = np.linalg.inv(-self.hessian(rslt.params, observed=oim)) / scale\n",
      "/opt/anaconda3/lib/python3.11/site-packages/statsmodels/genmod/generalized_linear_model.py:1257: PerfectSeparationWarning: Perfect separation or prediction detected, parameter may not be identified\n",
      "  cov_p = np.linalg.inv(-self.hessian(rslt.params, observed=oim)) / scale\n",
      "/opt/anaconda3/lib/python3.11/site-packages/statsmodels/genmod/generalized_linear_model.py:1257: PerfectSeparationWarning: Perfect separation or prediction detected, parameter may not be identified\n",
      "  cov_p = np.linalg.inv(-self.hessian(rslt.params, observed=oim)) / scale\n",
      "/opt/anaconda3/lib/python3.11/site-packages/statsmodels/genmod/generalized_linear_model.py:1257: PerfectSeparationWarning: Perfect separation or prediction detected, parameter may not be identified\n",
      "  cov_p = np.linalg.inv(-self.hessian(rslt.params, observed=oim)) / scale\n",
      "/opt/anaconda3/lib/python3.11/site-packages/statsmodels/genmod/generalized_linear_model.py:1257: PerfectSeparationWarning: Perfect separation or prediction detected, parameter may not be identified\n",
      "  cov_p = np.linalg.inv(-self.hessian(rslt.params, observed=oim)) / scale\n",
      "/opt/anaconda3/lib/python3.11/site-packages/statsmodels/genmod/generalized_linear_model.py:1257: PerfectSeparationWarning: Perfect separation or prediction detected, parameter may not be identified\n",
      "  cov_p = np.linalg.inv(-self.hessian(rslt.params, observed=oim)) / scale\n",
      "/opt/anaconda3/lib/python3.11/site-packages/statsmodels/genmod/generalized_linear_model.py:1257: PerfectSeparationWarning: Perfect separation or prediction detected, parameter may not be identified\n",
      "  cov_p = np.linalg.inv(-self.hessian(rslt.params, observed=oim)) / scale\n",
      "/opt/anaconda3/lib/python3.11/site-packages/statsmodels/genmod/generalized_linear_model.py:1257: PerfectSeparationWarning: Perfect separation or prediction detected, parameter may not be identified\n",
      "  cov_p = np.linalg.inv(-self.hessian(rslt.params, observed=oim)) / scale\n",
      "/opt/anaconda3/lib/python3.11/site-packages/statsmodels/genmod/generalized_linear_model.py:1257: PerfectSeparationWarning: Perfect separation or prediction detected, parameter may not be identified\n",
      "  cov_p = np.linalg.inv(-self.hessian(rslt.params, observed=oim)) / scale\n"
     ]
    },
    {
     "data": {
      "image/png": "[encoded data removed]",
      "text/plain": [
       "<Figure size 640x480 with 1 Axes>"
      ]
     },
     "metadata": {},
     "output_type": "display_data"
    },
    {
     "data": {
      "image/png": "[encoded data removed]",
      "text/plain": [
       "<Figure size 640x480 with 1 Axes>"
      ]
     },
     "metadata": {},
     "output_type": "display_data"
    }
   ],
   "source": [
    "# plot the outcomes\n",
    "plt.cla()\n",
    "\n",
    "fig, ax = plt.subplots()\n",
    "\n",
    "sns.regplot(data = train[train['Central_Air'] == 'Y'], x = 'Gr_Liv_Area', y = 'Bonus', scatter = True, logistic = True, ax = ax)\n",
    "sns.regplot(data = train[train['Central_Air'] == 'N'], x = 'Gr_Liv_Area', y = 'Bonus', scatter = True, logistic = True, ax = ax)\n",
    "\n",
    "plt.show()"
   ]
  },
  {
   "cell_type": "markdown",
   "metadata": {},
   "source": [
    "### Data Considerations"
   ]
  },
  {
   "cell_type": "code",
   "execution_count": null,
   "metadata": {},
   "outputs": [],
   "source": []
  }
 ],
 "metadata": {
  "kernelspec": {
   "display_name": "base",
   "language": "python",
   "name": "python3"
  },
  "language_info": {
   "codemirror_mode": {
    "name": "ipython",
    "version": 3
   },
   "file_extension": ".py",
   "mimetype": "text/x-python",
   "name": "python",
   "nbconvert_exporter": "python",
   "pygments_lexer": "ipython3",
   "version": "3.11.8"
  }
 },
 "nbformat": 4,
 "nbformat_minor": 2
}
