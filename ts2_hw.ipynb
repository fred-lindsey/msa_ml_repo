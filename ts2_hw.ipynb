{
 "cells": [
  {
   "cell_type": "markdown",
   "metadata": {},
   "source": [
    "## Time Series 2 HW 1\n",
    "- Your team is tasked with forecasting the electric load for American Electric Power Co. (AEP), one of the major electricity suppliers in mid-Atlantic. \n",
    "\n",
    "- Specifically, you will be forecasting hourly energy load for the Appalachian Power Territory of AEP. Electricity load by a power supplier need forecasts to better meet the needs of customers and prepare for operational expenses.\n",
    "\n",
    "- You are to forecast hourly energy usage for October 25, 2024 – October 31, 2024. Every week you will be sent the updated data with the latest week’s energy data through October 24, 2024."
   ]
  },
  {
   "cell_type": "markdown",
   "metadata": {},
   "source": [
    "### Phases:\n",
    "- Phase 1 – Exponential smoothing and seasonal ARIMA models\n",
    "\n",
    "- Phase 2 – Prophet and neural network models\n",
    "\n",
    "- Final Phase – Additional model as well as overall comparison of all modeling\n",
    "approaches used."
   ]
  },
  {
   "cell_type": "markdown",
   "metadata": {},
   "source": [
    "### Phase 1:\n",
    "- The data contains monthly information with an annual seasonal component: \n",
    ">>Feel free to try different approaches to account for the seasonality. \n",
    "\n",
    ">>Explain which approach you use and why.\n",
    "\n",
    "- Build an appropriate Exponential Smoothing Model.\n",
    ">> Forecast this model for your validation set only.\n",
    "\n",
    ">> Calculate the MAE and MAPE for the validation set.\n",
    "\n",
    "- Build a seasonal ARIMA model.\n",
    ">>Describe the approach you used to select the lags of the model. \n",
    "\n",
    ">>Forecast this model for your validation set only.\n",
    "\n",
    ">>Calculate the MAE and MAPE for the validation set."
   ]
  },
  {
   "cell_type": "code",
   "execution_count": 1,
   "metadata": {},
   "outputs": [],
   "source": [
    "import pandas as pd"
   ]
  },
  {
   "cell_type": "code",
   "execution_count": 2,
   "metadata": {},
   "outputs": [
    {
     "data": {
      "text/html": [
       "<div>\n",
       "<style scoped>\n",
       "    .dataframe tbody tr th:only-of-type {\n",
       "        vertical-align: middle;\n",
       "    }\n",
       "\n",
       "    .dataframe tbody tr th {\n",
       "        vertical-align: top;\n",
       "    }\n",
       "\n",
       "    .dataframe thead th {\n",
       "        text-align: right;\n",
       "    }\n",
       "</style>\n",
       "<table border=\"1\" class=\"dataframe\">\n",
       "  <thead>\n",
       "    <tr style=\"text-align: right;\">\n",
       "      <th></th>\n",
       "      <th>datetime_beginning_ept</th>\n",
       "      <th>nerc_region</th>\n",
       "      <th>mkt_region</th>\n",
       "      <th>zone</th>\n",
       "      <th>load_area</th>\n",
       "      <th>mw</th>\n",
       "      <th>is_verified</th>\n",
       "    </tr>\n",
       "  </thead>\n",
       "  <tbody>\n",
       "    <tr>\n",
       "      <th>0</th>\n",
       "      <td>1/1/18 0:00</td>\n",
       "      <td>RFC</td>\n",
       "      <td>WEST</td>\n",
       "      <td>AEP</td>\n",
       "      <td>AEPAPT</td>\n",
       "      <td>6787.226</td>\n",
       "      <td>True</td>\n",
       "    </tr>\n",
       "    <tr>\n",
       "      <th>1</th>\n",
       "      <td>1/1/18 1:00</td>\n",
       "      <td>RFC</td>\n",
       "      <td>WEST</td>\n",
       "      <td>AEP</td>\n",
       "      <td>AEPAPT</td>\n",
       "      <td>6909.472</td>\n",
       "      <td>True</td>\n",
       "    </tr>\n",
       "    <tr>\n",
       "      <th>2</th>\n",
       "      <td>1/1/18 2:00</td>\n",
       "      <td>RFC</td>\n",
       "      <td>WEST</td>\n",
       "      <td>AEP</td>\n",
       "      <td>AEPAPT</td>\n",
       "      <td>7004.748</td>\n",
       "      <td>True</td>\n",
       "    </tr>\n",
       "    <tr>\n",
       "      <th>3</th>\n",
       "      <td>1/1/18 3:00</td>\n",
       "      <td>RFC</td>\n",
       "      <td>WEST</td>\n",
       "      <td>AEP</td>\n",
       "      <td>AEPAPT</td>\n",
       "      <td>7093.771</td>\n",
       "      <td>True</td>\n",
       "    </tr>\n",
       "    <tr>\n",
       "      <th>4</th>\n",
       "      <td>1/1/18 4:00</td>\n",
       "      <td>RFC</td>\n",
       "      <td>WEST</td>\n",
       "      <td>AEP</td>\n",
       "      <td>AEPAPT</td>\n",
       "      <td>7244.769</td>\n",
       "      <td>True</td>\n",
       "    </tr>\n",
       "  </tbody>\n",
       "</table>\n",
       "</div>"
      ],
      "text/plain": [
       "  datetime_beginning_ept nerc_region mkt_region zone load_area        mw  \\\n",
       "0            1/1/18 0:00         RFC       WEST  AEP    AEPAPT  6787.226   \n",
       "1            1/1/18 1:00         RFC       WEST  AEP    AEPAPT  6909.472   \n",
       "2            1/1/18 2:00         RFC       WEST  AEP    AEPAPT  7004.748   \n",
       "3            1/1/18 3:00         RFC       WEST  AEP    AEPAPT  7093.771   \n",
       "4            1/1/18 4:00         RFC       WEST  AEP    AEPAPT  7244.769   \n",
       "\n",
       "   is_verified  \n",
       "0         True  \n",
       "1         True  \n",
       "2         True  \n",
       "3         True  \n",
       "4         True  "
      ]
     },
     "execution_count": 2,
     "metadata": {},
     "output_type": "execute_result"
    }
   ],
   "source": [
    "ts_df = pd.read_csv(\"hrl_load_metered.csv\")\n",
    "ts_df.head()"
   ]
  },
  {
   "cell_type": "code",
   "execution_count": 3,
   "metadata": {},
   "outputs": [
    {
     "data": {
      "text/plain": [
       "load_area\n",
       "AEPAPT    58727\n",
       "Name: count, dtype: int64"
      ]
     },
     "execution_count": 3,
     "metadata": {},
     "output_type": "execute_result"
    }
   ],
   "source": [
    "ts_df.load_area.value_counts()"
   ]
  },
  {
   "cell_type": "code",
   "execution_count": 4,
   "metadata": {},
   "outputs": [],
   "source": [
    "ts_df_rdx = ts_df.drop(columns=['is_verified', 'nerc_region', 'mkt_region','zone','load_area'])"
   ]
  },
  {
   "cell_type": "code",
   "execution_count": 7,
   "metadata": {},
   "outputs": [
    {
     "data": {
      "text/html": [
       "<div>\n",
       "<style scoped>\n",
       "    .dataframe tbody tr th:only-of-type {\n",
       "        vertical-align: middle;\n",
       "    }\n",
       "\n",
       "    .dataframe tbody tr th {\n",
       "        vertical-align: top;\n",
       "    }\n",
       "\n",
       "    .dataframe thead th {\n",
       "        text-align: right;\n",
       "    }\n",
       "</style>\n",
       "<table border=\"1\" class=\"dataframe\">\n",
       "  <thead>\n",
       "    <tr style=\"text-align: right;\">\n",
       "      <th></th>\n",
       "      <th>datetime_beginning_ept</th>\n",
       "      <th>mw</th>\n",
       "    </tr>\n",
       "  </thead>\n",
       "  <tbody>\n",
       "    <tr>\n",
       "      <th>0</th>\n",
       "      <td>1/1/18 0:00</td>\n",
       "      <td>6787.226</td>\n",
       "    </tr>\n",
       "    <tr>\n",
       "      <th>1</th>\n",
       "      <td>1/1/18 1:00</td>\n",
       "      <td>6909.472</td>\n",
       "    </tr>\n",
       "    <tr>\n",
       "      <th>2</th>\n",
       "      <td>1/1/18 2:00</td>\n",
       "      <td>7004.748</td>\n",
       "    </tr>\n",
       "    <tr>\n",
       "      <th>3</th>\n",
       "      <td>1/1/18 3:00</td>\n",
       "      <td>7093.771</td>\n",
       "    </tr>\n",
       "    <tr>\n",
       "      <th>4</th>\n",
       "      <td>1/1/18 4:00</td>\n",
       "      <td>7244.769</td>\n",
       "    </tr>\n",
       "    <tr>\n",
       "      <th>5</th>\n",
       "      <td>1/1/18 5:00</td>\n",
       "      <td>7417.118</td>\n",
       "    </tr>\n",
       "    <tr>\n",
       "      <th>6</th>\n",
       "      <td>1/1/18 6:00</td>\n",
       "      <td>7582.691</td>\n",
       "    </tr>\n",
       "    <tr>\n",
       "      <th>7</th>\n",
       "      <td>1/1/18 7:00</td>\n",
       "      <td>7713.160</td>\n",
       "    </tr>\n",
       "    <tr>\n",
       "      <th>8</th>\n",
       "      <td>1/1/18 8:00</td>\n",
       "      <td>7690.264</td>\n",
       "    </tr>\n",
       "    <tr>\n",
       "      <th>9</th>\n",
       "      <td>1/1/18 9:00</td>\n",
       "      <td>7445.724</td>\n",
       "    </tr>\n",
       "    <tr>\n",
       "      <th>10</th>\n",
       "      <td>1/1/18 10:00</td>\n",
       "      <td>7214.266</td>\n",
       "    </tr>\n",
       "    <tr>\n",
       "      <th>11</th>\n",
       "      <td>1/1/18 11:00</td>\n",
       "      <td>6997.240</td>\n",
       "    </tr>\n",
       "    <tr>\n",
       "      <th>12</th>\n",
       "      <td>1/1/18 12:00</td>\n",
       "      <td>6839.648</td>\n",
       "    </tr>\n",
       "    <tr>\n",
       "      <th>13</th>\n",
       "      <td>1/1/18 13:00</td>\n",
       "      <td>6692.064</td>\n",
       "    </tr>\n",
       "    <tr>\n",
       "      <th>14</th>\n",
       "      <td>1/1/18 14:00</td>\n",
       "      <td>6600.701</td>\n",
       "    </tr>\n",
       "    <tr>\n",
       "      <th>15</th>\n",
       "      <td>1/1/18 15:00</td>\n",
       "      <td>6601.923</td>\n",
       "    </tr>\n",
       "    <tr>\n",
       "      <th>16</th>\n",
       "      <td>1/1/18 16:00</td>\n",
       "      <td>6783.662</td>\n",
       "    </tr>\n",
       "    <tr>\n",
       "      <th>17</th>\n",
       "      <td>1/1/18 17:00</td>\n",
       "      <td>7215.177</td>\n",
       "    </tr>\n",
       "    <tr>\n",
       "      <th>18</th>\n",
       "      <td>1/1/18 18:00</td>\n",
       "      <td>7431.221</td>\n",
       "    </tr>\n",
       "    <tr>\n",
       "      <th>19</th>\n",
       "      <td>1/1/18 19:00</td>\n",
       "      <td>7563.863</td>\n",
       "    </tr>\n",
       "  </tbody>\n",
       "</table>\n",
       "</div>"
      ],
      "text/plain": [
       "   datetime_beginning_ept        mw\n",
       "0             1/1/18 0:00  6787.226\n",
       "1             1/1/18 1:00  6909.472\n",
       "2             1/1/18 2:00  7004.748\n",
       "3             1/1/18 3:00  7093.771\n",
       "4             1/1/18 4:00  7244.769\n",
       "5             1/1/18 5:00  7417.118\n",
       "6             1/1/18 6:00  7582.691\n",
       "7             1/1/18 7:00  7713.160\n",
       "8             1/1/18 8:00  7690.264\n",
       "9             1/1/18 9:00  7445.724\n",
       "10           1/1/18 10:00  7214.266\n",
       "11           1/1/18 11:00  6997.240\n",
       "12           1/1/18 12:00  6839.648\n",
       "13           1/1/18 13:00  6692.064\n",
       "14           1/1/18 14:00  6600.701\n",
       "15           1/1/18 15:00  6601.923\n",
       "16           1/1/18 16:00  6783.662\n",
       "17           1/1/18 17:00  7215.177\n",
       "18           1/1/18 18:00  7431.221\n",
       "19           1/1/18 19:00  7563.863"
      ]
     },
     "execution_count": 7,
     "metadata": {},
     "output_type": "execute_result"
    }
   ],
   "source": [
    "ts_df_rdx.head(20)"
   ]
  },
  {
   "cell_type": "code",
   "execution_count": 9,
   "metadata": {},
   "outputs": [],
   "source": [
    "ts_df_rdx['datetime_beginning_ept'] = pd.to_datetime(ts_df_rdx['datetime_beginning_ept'], format='mixed')"
   ]
  },
  {
   "cell_type": "code",
   "execution_count": 10,
   "metadata": {},
   "outputs": [
    {
     "data": {
      "text/html": [
       "<div>\n",
       "<style scoped>\n",
       "    .dataframe tbody tr th:only-of-type {\n",
       "        vertical-align: middle;\n",
       "    }\n",
       "\n",
       "    .dataframe tbody tr th {\n",
       "        vertical-align: top;\n",
       "    }\n",
       "\n",
       "    .dataframe thead th {\n",
       "        text-align: right;\n",
       "    }\n",
       "</style>\n",
       "<table border=\"1\" class=\"dataframe\">\n",
       "  <thead>\n",
       "    <tr style=\"text-align: right;\">\n",
       "      <th></th>\n",
       "      <th>datetime_beginning_ept</th>\n",
       "      <th>mw</th>\n",
       "    </tr>\n",
       "  </thead>\n",
       "  <tbody>\n",
       "    <tr>\n",
       "      <th>0</th>\n",
       "      <td>2018-01-01 00:00:00</td>\n",
       "      <td>6787.226</td>\n",
       "    </tr>\n",
       "    <tr>\n",
       "      <th>1</th>\n",
       "      <td>2018-01-01 01:00:00</td>\n",
       "      <td>6909.472</td>\n",
       "    </tr>\n",
       "    <tr>\n",
       "      <th>2</th>\n",
       "      <td>2018-01-01 02:00:00</td>\n",
       "      <td>7004.748</td>\n",
       "    </tr>\n",
       "    <tr>\n",
       "      <th>3</th>\n",
       "      <td>2018-01-01 03:00:00</td>\n",
       "      <td>7093.771</td>\n",
       "    </tr>\n",
       "    <tr>\n",
       "      <th>4</th>\n",
       "      <td>2018-01-01 04:00:00</td>\n",
       "      <td>7244.769</td>\n",
       "    </tr>\n",
       "    <tr>\n",
       "      <th>5</th>\n",
       "      <td>2018-01-01 05:00:00</td>\n",
       "      <td>7417.118</td>\n",
       "    </tr>\n",
       "    <tr>\n",
       "      <th>6</th>\n",
       "      <td>2018-01-01 06:00:00</td>\n",
       "      <td>7582.691</td>\n",
       "    </tr>\n",
       "    <tr>\n",
       "      <th>7</th>\n",
       "      <td>2018-01-01 07:00:00</td>\n",
       "      <td>7713.160</td>\n",
       "    </tr>\n",
       "    <tr>\n",
       "      <th>8</th>\n",
       "      <td>2018-01-01 08:00:00</td>\n",
       "      <td>7690.264</td>\n",
       "    </tr>\n",
       "    <tr>\n",
       "      <th>9</th>\n",
       "      <td>2018-01-01 09:00:00</td>\n",
       "      <td>7445.724</td>\n",
       "    </tr>\n",
       "    <tr>\n",
       "      <th>10</th>\n",
       "      <td>2018-01-01 10:00:00</td>\n",
       "      <td>7214.266</td>\n",
       "    </tr>\n",
       "    <tr>\n",
       "      <th>11</th>\n",
       "      <td>2018-01-01 11:00:00</td>\n",
       "      <td>6997.240</td>\n",
       "    </tr>\n",
       "    <tr>\n",
       "      <th>12</th>\n",
       "      <td>2018-01-01 12:00:00</td>\n",
       "      <td>6839.648</td>\n",
       "    </tr>\n",
       "    <tr>\n",
       "      <th>13</th>\n",
       "      <td>2018-01-01 13:00:00</td>\n",
       "      <td>6692.064</td>\n",
       "    </tr>\n",
       "    <tr>\n",
       "      <th>14</th>\n",
       "      <td>2018-01-01 14:00:00</td>\n",
       "      <td>6600.701</td>\n",
       "    </tr>\n",
       "    <tr>\n",
       "      <th>15</th>\n",
       "      <td>2018-01-01 15:00:00</td>\n",
       "      <td>6601.923</td>\n",
       "    </tr>\n",
       "    <tr>\n",
       "      <th>16</th>\n",
       "      <td>2018-01-01 16:00:00</td>\n",
       "      <td>6783.662</td>\n",
       "    </tr>\n",
       "    <tr>\n",
       "      <th>17</th>\n",
       "      <td>2018-01-01 17:00:00</td>\n",
       "      <td>7215.177</td>\n",
       "    </tr>\n",
       "    <tr>\n",
       "      <th>18</th>\n",
       "      <td>2018-01-01 18:00:00</td>\n",
       "      <td>7431.221</td>\n",
       "    </tr>\n",
       "    <tr>\n",
       "      <th>19</th>\n",
       "      <td>2018-01-01 19:00:00</td>\n",
       "      <td>7563.863</td>\n",
       "    </tr>\n",
       "    <tr>\n",
       "      <th>20</th>\n",
       "      <td>2018-01-01 20:00:00</td>\n",
       "      <td>7611.649</td>\n",
       "    </tr>\n",
       "    <tr>\n",
       "      <th>21</th>\n",
       "      <td>2018-01-01 21:00:00</td>\n",
       "      <td>7568.290</td>\n",
       "    </tr>\n",
       "    <tr>\n",
       "      <th>22</th>\n",
       "      <td>2018-01-01 22:00:00</td>\n",
       "      <td>7483.765</td>\n",
       "    </tr>\n",
       "    <tr>\n",
       "      <th>23</th>\n",
       "      <td>2018-01-01 23:00:00</td>\n",
       "      <td>7416.914</td>\n",
       "    </tr>\n",
       "    <tr>\n",
       "      <th>24</th>\n",
       "      <td>2018-01-02 00:00:00</td>\n",
       "      <td>7413.781</td>\n",
       "    </tr>\n",
       "  </tbody>\n",
       "</table>\n",
       "</div>"
      ],
      "text/plain": [
       "   datetime_beginning_ept        mw\n",
       "0     2018-01-01 00:00:00  6787.226\n",
       "1     2018-01-01 01:00:00  6909.472\n",
       "2     2018-01-01 02:00:00  7004.748\n",
       "3     2018-01-01 03:00:00  7093.771\n",
       "4     2018-01-01 04:00:00  7244.769\n",
       "5     2018-01-01 05:00:00  7417.118\n",
       "6     2018-01-01 06:00:00  7582.691\n",
       "7     2018-01-01 07:00:00  7713.160\n",
       "8     2018-01-01 08:00:00  7690.264\n",
       "9     2018-01-01 09:00:00  7445.724\n",
       "10    2018-01-01 10:00:00  7214.266\n",
       "11    2018-01-01 11:00:00  6997.240\n",
       "12    2018-01-01 12:00:00  6839.648\n",
       "13    2018-01-01 13:00:00  6692.064\n",
       "14    2018-01-01 14:00:00  6600.701\n",
       "15    2018-01-01 15:00:00  6601.923\n",
       "16    2018-01-01 16:00:00  6783.662\n",
       "17    2018-01-01 17:00:00  7215.177\n",
       "18    2018-01-01 18:00:00  7431.221\n",
       "19    2018-01-01 19:00:00  7563.863\n",
       "20    2018-01-01 20:00:00  7611.649\n",
       "21    2018-01-01 21:00:00  7568.290\n",
       "22    2018-01-01 22:00:00  7483.765\n",
       "23    2018-01-01 23:00:00  7416.914\n",
       "24    2018-01-02 00:00:00  7413.781"
      ]
     },
     "execution_count": 10,
     "metadata": {},
     "output_type": "execute_result"
    }
   ],
   "source": [
    "ts_df_rdx.head(25)"
   ]
  },
  {
   "cell_type": "code",
   "execution_count": 11,
   "metadata": {},
   "outputs": [
    {
     "data": {
      "text/html": [
       "<div>\n",
       "<style scoped>\n",
       "    .dataframe tbody tr th:only-of-type {\n",
       "        vertical-align: middle;\n",
       "    }\n",
       "\n",
       "    .dataframe tbody tr th {\n",
       "        vertical-align: top;\n",
       "    }\n",
       "\n",
       "    .dataframe thead th {\n",
       "        text-align: right;\n",
       "    }\n",
       "</style>\n",
       "<table border=\"1\" class=\"dataframe\">\n",
       "  <thead>\n",
       "    <tr style=\"text-align: right;\">\n",
       "      <th></th>\n",
       "      <th>datetime_beginning_ept</th>\n",
       "      <th>mw</th>\n",
       "    </tr>\n",
       "    <tr>\n",
       "      <th>datetime_beginning_ept</th>\n",
       "      <th></th>\n",
       "      <th></th>\n",
       "    </tr>\n",
       "  </thead>\n",
       "  <tbody>\n",
       "    <tr>\n",
       "      <th>2018-01-01 00:00:00</th>\n",
       "      <td>2018-01-01 00:00:00</td>\n",
       "      <td>6787.226</td>\n",
       "    </tr>\n",
       "    <tr>\n",
       "      <th>2018-01-01 01:00:00</th>\n",
       "      <td>2018-01-01 01:00:00</td>\n",
       "      <td>6909.472</td>\n",
       "    </tr>\n",
       "    <tr>\n",
       "      <th>2018-01-01 02:00:00</th>\n",
       "      <td>2018-01-01 02:00:00</td>\n",
       "      <td>7004.748</td>\n",
       "    </tr>\n",
       "    <tr>\n",
       "      <th>2018-01-01 03:00:00</th>\n",
       "      <td>2018-01-01 03:00:00</td>\n",
       "      <td>7093.771</td>\n",
       "    </tr>\n",
       "    <tr>\n",
       "      <th>2018-01-01 04:00:00</th>\n",
       "      <td>2018-01-01 04:00:00</td>\n",
       "      <td>7244.769</td>\n",
       "    </tr>\n",
       "  </tbody>\n",
       "</table>\n",
       "</div>"
      ],
      "text/plain": [
       "                       datetime_beginning_ept        mw\n",
       "datetime_beginning_ept                                 \n",
       "2018-01-01 00:00:00       2018-01-01 00:00:00  6787.226\n",
       "2018-01-01 01:00:00       2018-01-01 01:00:00  6909.472\n",
       "2018-01-01 02:00:00       2018-01-01 02:00:00  7004.748\n",
       "2018-01-01 03:00:00       2018-01-01 03:00:00  7093.771\n",
       "2018-01-01 04:00:00       2018-01-01 04:00:00  7244.769"
      ]
     },
     "execution_count": 11,
     "metadata": {},
     "output_type": "execute_result"
    }
   ],
   "source": [
    "ts_df_rdx.set_index(ts_df_rdx.datetime_beginning_ept, inplace=True)\n",
    "ts_df_rdx.head()"
   ]
  },
  {
   "cell_type": "code",
   "execution_count": 13,
   "metadata": {},
   "outputs": [],
   "source": [
    "ts_df_rdx.index.name = None"
   ]
  },
  {
   "cell_type": "code",
   "execution_count": 14,
   "metadata": {},
   "outputs": [
    {
     "data": {
      "text/html": [
       "<div>\n",
       "<style scoped>\n",
       "    .dataframe tbody tr th:only-of-type {\n",
       "        vertical-align: middle;\n",
       "    }\n",
       "\n",
       "    .dataframe tbody tr th {\n",
       "        vertical-align: top;\n",
       "    }\n",
       "\n",
       "    .dataframe thead th {\n",
       "        text-align: right;\n",
       "    }\n",
       "</style>\n",
       "<table border=\"1\" class=\"dataframe\">\n",
       "  <thead>\n",
       "    <tr style=\"text-align: right;\">\n",
       "      <th></th>\n",
       "      <th>datetime_beginning_ept</th>\n",
       "      <th>mw</th>\n",
       "    </tr>\n",
       "  </thead>\n",
       "  <tbody>\n",
       "    <tr>\n",
       "      <th>2018-01-01 00:00:00</th>\n",
       "      <td>2018-01-01 00:00:00</td>\n",
       "      <td>6787.226</td>\n",
       "    </tr>\n",
       "    <tr>\n",
       "      <th>2018-01-01 01:00:00</th>\n",
       "      <td>2018-01-01 01:00:00</td>\n",
       "      <td>6909.472</td>\n",
       "    </tr>\n",
       "    <tr>\n",
       "      <th>2018-01-01 02:00:00</th>\n",
       "      <td>2018-01-01 02:00:00</td>\n",
       "      <td>7004.748</td>\n",
       "    </tr>\n",
       "    <tr>\n",
       "      <th>2018-01-01 03:00:00</th>\n",
       "      <td>2018-01-01 03:00:00</td>\n",
       "      <td>7093.771</td>\n",
       "    </tr>\n",
       "    <tr>\n",
       "      <th>2018-01-01 04:00:00</th>\n",
       "      <td>2018-01-01 04:00:00</td>\n",
       "      <td>7244.769</td>\n",
       "    </tr>\n",
       "  </tbody>\n",
       "</table>\n",
       "</div>"
      ],
      "text/plain": [
       "                    datetime_beginning_ept        mw\n",
       "2018-01-01 00:00:00    2018-01-01 00:00:00  6787.226\n",
       "2018-01-01 01:00:00    2018-01-01 01:00:00  6909.472\n",
       "2018-01-01 02:00:00    2018-01-01 02:00:00  7004.748\n",
       "2018-01-01 03:00:00    2018-01-01 03:00:00  7093.771\n",
       "2018-01-01 04:00:00    2018-01-01 04:00:00  7244.769"
      ]
     },
     "execution_count": 14,
     "metadata": {},
     "output_type": "execute_result"
    }
   ],
   "source": [
    "ts_df_rdx.head()"
   ]
  },
  {
   "cell_type": "code",
   "execution_count": 15,
   "metadata": {},
   "outputs": [],
   "source": [
    "ts_df_rdx.drop(columns='datetime_beginning_ept', inplace=True)"
   ]
  },
  {
   "cell_type": "code",
   "execution_count": 16,
   "metadata": {},
   "outputs": [
    {
     "data": {
      "text/html": [
       "<div>\n",
       "<style scoped>\n",
       "    .dataframe tbody tr th:only-of-type {\n",
       "        vertical-align: middle;\n",
       "    }\n",
       "\n",
       "    .dataframe tbody tr th {\n",
       "        vertical-align: top;\n",
       "    }\n",
       "\n",
       "    .dataframe thead th {\n",
       "        text-align: right;\n",
       "    }\n",
       "</style>\n",
       "<table border=\"1\" class=\"dataframe\">\n",
       "  <thead>\n",
       "    <tr style=\"text-align: right;\">\n",
       "      <th></th>\n",
       "      <th>mw</th>\n",
       "    </tr>\n",
       "  </thead>\n",
       "  <tbody>\n",
       "    <tr>\n",
       "      <th>2018-01-01 00:00:00</th>\n",
       "      <td>6787.226</td>\n",
       "    </tr>\n",
       "    <tr>\n",
       "      <th>2018-01-01 01:00:00</th>\n",
       "      <td>6909.472</td>\n",
       "    </tr>\n",
       "    <tr>\n",
       "      <th>2018-01-01 02:00:00</th>\n",
       "      <td>7004.748</td>\n",
       "    </tr>\n",
       "    <tr>\n",
       "      <th>2018-01-01 03:00:00</th>\n",
       "      <td>7093.771</td>\n",
       "    </tr>\n",
       "    <tr>\n",
       "      <th>2018-01-01 04:00:00</th>\n",
       "      <td>7244.769</td>\n",
       "    </tr>\n",
       "  </tbody>\n",
       "</table>\n",
       "</div>"
      ],
      "text/plain": [
       "                           mw\n",
       "2018-01-01 00:00:00  6787.226\n",
       "2018-01-01 01:00:00  6909.472\n",
       "2018-01-01 02:00:00  7004.748\n",
       "2018-01-01 03:00:00  7093.771\n",
       "2018-01-01 04:00:00  7244.769"
      ]
     },
     "execution_count": 16,
     "metadata": {},
     "output_type": "execute_result"
    }
   ],
   "source": [
    "ts_df_rdx.head()"
   ]
  },
  {
   "cell_type": "code",
   "execution_count": 17,
   "metadata": {},
   "outputs": [
    {
     "data": {
      "text/plain": [
       "(58727, 1)"
      ]
     },
     "execution_count": 17,
     "metadata": {},
     "output_type": "execute_result"
    }
   ],
   "source": [
    "ts_df_rdx.shape"
   ]
  },
  {
   "cell_type": "code",
   "execution_count": 19,
   "metadata": {},
   "outputs": [],
   "source": [
    "# drop duplicates due to daylight savings\n",
    "deduped = ts_df_rdx.reset_index()\n",
    "deduped.drop_duplicates(subset=['index'], keep='first', inplace=True)\n",
    "deduped.set_index('index', inplace=True)"
   ]
  },
  {
   "cell_type": "code",
   "execution_count": 20,
   "metadata": {},
   "outputs": [
    {
     "data": {
      "text/html": [
       "<div>\n",
       "<style scoped>\n",
       "    .dataframe tbody tr th:only-of-type {\n",
       "        vertical-align: middle;\n",
       "    }\n",
       "\n",
       "    .dataframe tbody tr th {\n",
       "        vertical-align: top;\n",
       "    }\n",
       "\n",
       "    .dataframe thead th {\n",
       "        text-align: right;\n",
       "    }\n",
       "</style>\n",
       "<table border=\"1\" class=\"dataframe\">\n",
       "  <thead>\n",
       "    <tr style=\"text-align: right;\">\n",
       "      <th></th>\n",
       "      <th>mw</th>\n",
       "    </tr>\n",
       "    <tr>\n",
       "      <th>index</th>\n",
       "      <th></th>\n",
       "    </tr>\n",
       "  </thead>\n",
       "  <tbody>\n",
       "    <tr>\n",
       "      <th>2018-01-01 00:00:00</th>\n",
       "      <td>6787.226</td>\n",
       "    </tr>\n",
       "    <tr>\n",
       "      <th>2018-01-01 01:00:00</th>\n",
       "      <td>6909.472</td>\n",
       "    </tr>\n",
       "    <tr>\n",
       "      <th>2018-01-01 02:00:00</th>\n",
       "      <td>7004.748</td>\n",
       "    </tr>\n",
       "    <tr>\n",
       "      <th>2018-01-01 03:00:00</th>\n",
       "      <td>7093.771</td>\n",
       "    </tr>\n",
       "    <tr>\n",
       "      <th>2018-01-01 04:00:00</th>\n",
       "      <td>7244.769</td>\n",
       "    </tr>\n",
       "  </tbody>\n",
       "</table>\n",
       "</div>"
      ],
      "text/plain": [
       "                           mw\n",
       "index                        \n",
       "2018-01-01 00:00:00  6787.226\n",
       "2018-01-01 01:00:00  6909.472\n",
       "2018-01-01 02:00:00  7004.748\n",
       "2018-01-01 03:00:00  7093.771\n",
       "2018-01-01 04:00:00  7244.769"
      ]
     },
     "execution_count": 20,
     "metadata": {},
     "output_type": "execute_result"
    }
   ],
   "source": [
    "deduped.head()"
   ]
  },
  {
   "cell_type": "code",
   "execution_count": 21,
   "metadata": {},
   "outputs": [],
   "source": [
    "deduped.index.name = None"
   ]
  },
  {
   "cell_type": "code",
   "execution_count": 22,
   "metadata": {},
   "outputs": [
    {
     "data": {
      "text/html": [
       "<div>\n",
       "<style scoped>\n",
       "    .dataframe tbody tr th:only-of-type {\n",
       "        vertical-align: middle;\n",
       "    }\n",
       "\n",
       "    .dataframe tbody tr th {\n",
       "        vertical-align: top;\n",
       "    }\n",
       "\n",
       "    .dataframe thead th {\n",
       "        text-align: right;\n",
       "    }\n",
       "</style>\n",
       "<table border=\"1\" class=\"dataframe\">\n",
       "  <thead>\n",
       "    <tr style=\"text-align: right;\">\n",
       "      <th></th>\n",
       "      <th>mw</th>\n",
       "    </tr>\n",
       "  </thead>\n",
       "  <tbody>\n",
       "    <tr>\n",
       "      <th>2018-01-01 00:00:00</th>\n",
       "      <td>6787.226</td>\n",
       "    </tr>\n",
       "    <tr>\n",
       "      <th>2018-01-01 01:00:00</th>\n",
       "      <td>6909.472</td>\n",
       "    </tr>\n",
       "    <tr>\n",
       "      <th>2018-01-01 02:00:00</th>\n",
       "      <td>7004.748</td>\n",
       "    </tr>\n",
       "    <tr>\n",
       "      <th>2018-01-01 03:00:00</th>\n",
       "      <td>7093.771</td>\n",
       "    </tr>\n",
       "    <tr>\n",
       "      <th>2018-01-01 04:00:00</th>\n",
       "      <td>7244.769</td>\n",
       "    </tr>\n",
       "  </tbody>\n",
       "</table>\n",
       "</div>"
      ],
      "text/plain": [
       "                           mw\n",
       "2018-01-01 00:00:00  6787.226\n",
       "2018-01-01 01:00:00  6909.472\n",
       "2018-01-01 02:00:00  7004.748\n",
       "2018-01-01 03:00:00  7093.771\n",
       "2018-01-01 04:00:00  7244.769"
      ]
     },
     "execution_count": 22,
     "metadata": {},
     "output_type": "execute_result"
    }
   ],
   "source": [
    "deduped.head()"
   ]
  },
  {
   "cell_type": "code",
   "execution_count": 23,
   "metadata": {},
   "outputs": [
    {
     "data": {
      "text/plain": [
       "(58721, 1)"
      ]
     },
     "execution_count": 23,
     "metadata": {},
     "output_type": "execute_result"
    }
   ],
   "source": [
    "deduped.shape"
   ]
  },
  {
   "cell_type": "code",
   "execution_count": 25,
   "metadata": {},
   "outputs": [
    {
     "data": {
      "text/plain": [
       "Timestamp('2018-01-01 00:00:00')"
      ]
     },
     "execution_count": 25,
     "metadata": {},
     "output_type": "execute_result"
    }
   ],
   "source": [
    "deduped.index.min()"
   ]
  },
  {
   "cell_type": "code",
   "execution_count": 24,
   "metadata": {},
   "outputs": [
    {
     "data": {
      "text/plain": [
       "Timestamp('2024-09-12 23:00:00')"
      ]
     },
     "execution_count": 24,
     "metadata": {},
     "output_type": "execute_result"
    }
   ],
   "source": [
    "deduped.index.max()"
   ]
  },
  {
   "cell_type": "markdown",
   "metadata": {},
   "source": [
    "#### Takeaway: dropped 6 rows\n",
    "- makes sense, we have 6 years of data, and there are 6 instances of 1 added hour each year\n",
    "- next we need to add in the missing hours. Let's check for those missing data points"
   ]
  },
  {
   "cell_type": "code",
   "execution_count": 28,
   "metadata": {},
   "outputs": [],
   "source": [
    "# check for missing data points\n",
    "full_date_range = pd.date_range(start=deduped.index.min(), end=deduped.index.max(), freq='H')\n",
    "\n",
    "gaps = full_date_range.difference(deduped.index)"
   ]
  },
  {
   "cell_type": "code",
   "execution_count": 29,
   "metadata": {},
   "outputs": [
    {
     "name": "stdout",
     "output_type": "stream",
     "text": [
      "gaps: DatetimeIndex(['2018-03-11 02:00:00', '2019-03-10 02:00:00',\n",
      "               '2020-03-08 02:00:00', '2021-03-14 02:00:00',\n",
      "               '2022-03-13 02:00:00', '2023-03-12 02:00:00',\n",
      "               '2024-03-10 02:00:00'],\n",
      "              dtype='datetime64[ns]', freq=None)\n"
     ]
    }
   ],
   "source": [
    "\n",
    "if not gaps.empty:\n",
    "    print(f\"gaps: {gaps}\")\n",
    "else:\n",
    "    print(\"No gaps\")"
   ]
  },
  {
   "cell_type": "code",
   "execution_count": 30,
   "metadata": {},
   "outputs": [],
   "source": [
    "import pandas as pd\n",
    "import numpy as np\n",
    "from scipy import interpolate\n",
    "import matplotlib.pyplot as plt"
   ]
  },
  {
   "cell_type": "code",
   "execution_count": 31,
   "metadata": {},
   "outputs": [
    {
     "data": {
      "text/html": [
       "<div>\n",
       "<style scoped>\n",
       "    .dataframe tbody tr th:only-of-type {\n",
       "        vertical-align: middle;\n",
       "    }\n",
       "\n",
       "    .dataframe tbody tr th {\n",
       "        vertical-align: top;\n",
       "    }\n",
       "\n",
       "    .dataframe thead th {\n",
       "        text-align: right;\n",
       "    }\n",
       "</style>\n",
       "<table border=\"1\" class=\"dataframe\">\n",
       "  <thead>\n",
       "    <tr style=\"text-align: right;\">\n",
       "      <th></th>\n",
       "      <th>mw</th>\n",
       "    </tr>\n",
       "  </thead>\n",
       "  <tbody>\n",
       "    <tr>\n",
       "      <th>2018-01-01 00:00:00</th>\n",
       "      <td>6787.226</td>\n",
       "    </tr>\n",
       "    <tr>\n",
       "      <th>2018-01-01 01:00:00</th>\n",
       "      <td>6909.472</td>\n",
       "    </tr>\n",
       "    <tr>\n",
       "      <th>2018-01-01 02:00:00</th>\n",
       "      <td>7004.748</td>\n",
       "    </tr>\n",
       "    <tr>\n",
       "      <th>2018-01-01 03:00:00</th>\n",
       "      <td>7093.771</td>\n",
       "    </tr>\n",
       "    <tr>\n",
       "      <th>2018-01-01 04:00:00</th>\n",
       "      <td>7244.769</td>\n",
       "    </tr>\n",
       "  </tbody>\n",
       "</table>\n",
       "</div>"
      ],
      "text/plain": [
       "                           mw\n",
       "2018-01-01 00:00:00  6787.226\n",
       "2018-01-01 01:00:00  6909.472\n",
       "2018-01-01 02:00:00  7004.748\n",
       "2018-01-01 03:00:00  7093.771\n",
       "2018-01-01 04:00:00  7244.769"
      ]
     },
     "execution_count": 31,
     "metadata": {},
     "output_type": "execute_result"
    }
   ],
   "source": [
    "# now add in the missing hourly data, using df.asfreq()\n",
    "deduped_and_filled = deduped\n",
    "deduped_and_filled = deduped_and_filled.asfreq('H')\n",
    "\n",
    "# next we can fill the missing values, using a spline interpolation\n",
    "deduped_and_filled.head()"
   ]
  },
  {
   "cell_type": "code",
   "execution_count": 32,
   "metadata": {},
   "outputs": [
    {
     "name": "stdout",
     "output_type": "stream",
     "text": [
      "No gaps\n"
     ]
    }
   ],
   "source": [
    "# now rerun the gap analysis\n",
    "full_date_range = pd.date_range(start=deduped_and_filled.index.min(), end=deduped_and_filled.index.max(), freq='H')\n",
    "\n",
    "gaps = full_date_range.difference(deduped_and_filled.index)\n",
    "\n",
    "if not gaps.empty:\n",
    "    print(f\"gaps: {gaps}\")\n",
    "else:\n",
    "    print(\"No gaps\")"
   ]
  },
  {
   "cell_type": "code",
   "execution_count": 34,
   "metadata": {},
   "outputs": [
    {
     "data": {
      "image/png": "[encoded data removed]",
      "text/plain": [
       "<Figure size 1000x600 with 1 Axes>"
      ]
     },
     "metadata": {},
     "output_type": "display_data"
    },
    {
     "name": "stdout",
     "output_type": "stream",
     "text": [
      "mw    0\n",
      "dtype: int64\n"
     ]
    }
   ],
   "source": [
    "# Drop rows where all values are NaN before interpolation\n",
    "df_valid = deduped_and_filled.dropna(subset=['mw'])\n",
    "\n",
    "# Perform spline interpolation\n",
    "spline_interpolator = interpolate.InterpolatedUnivariateSpline(df_valid.index.astype(int), df_valid['mw'], k=2)\n",
    "\n",
    "# Fill missing values in the original df using the spline interpolator\n",
    "deduped_and_filled['mw'] = deduped_and_filled['mw'].combine_first(pd.Series(spline_interpolator(deduped_and_filled.index.astype(int)), index=deduped_and_filled.index))\n",
    "\n",
    "# 5. Plot the original data with the interpolated values\n",
    "plt.figure(figsize=(10, 6))\n",
    "plt.plot(df_valid.index, df_valid['mw'], label='Original Data', marker='o', linestyle='--', color='blue')\n",
    "plt.plot(deduped_and_filled.index, deduped_and_filled['mw'], label='Spline Interpolated Data', color='orange')\n",
    "plt.legend()\n",
    "plt.show()\n",
    "\n",
    "# Check for missing values again to ensure they were filled\n",
    "print(deduped_and_filled.isna().sum())"
   ]
  },
  {
   "cell_type": "code",
   "execution_count": 35,
   "metadata": {},
   "outputs": [
    {
     "data": {
      "text/html": [
       "<div>\n",
       "<style scoped>\n",
       "    .dataframe tbody tr th:only-of-type {\n",
       "        vertical-align: middle;\n",
       "    }\n",
       "\n",
       "    .dataframe tbody tr th {\n",
       "        vertical-align: top;\n",
       "    }\n",
       "\n",
       "    .dataframe thead th {\n",
       "        text-align: right;\n",
       "    }\n",
       "</style>\n",
       "<table border=\"1\" class=\"dataframe\">\n",
       "  <thead>\n",
       "    <tr style=\"text-align: right;\">\n",
       "      <th></th>\n",
       "      <th>mw</th>\n",
       "    </tr>\n",
       "  </thead>\n",
       "  <tbody>\n",
       "    <tr>\n",
       "      <th>2020-03-08 02:00:00</th>\n",
       "      <td>4993.863129</td>\n",
       "    </tr>\n",
       "  </tbody>\n",
       "</table>\n",
       "</div>"
      ],
      "text/plain": [
       "                              mw\n",
       "2020-03-08 02:00:00  4993.863129"
      ]
     },
     "execution_count": 35,
     "metadata": {},
     "output_type": "execute_result"
    }
   ],
   "source": [
    "#check the dataframe with the index of the previously empty values\n",
    "deduped_and_filled[deduped_and_filled.index =='2020-03-08 02:00:00']\n",
    "\n",
    "# good! it worked!"
   ]
  },
  {
   "cell_type": "code",
   "execution_count": 40,
   "metadata": {},
   "outputs": [
    {
     "name": "stdout",
     "output_type": "stream",
     "text": [
      "2018-01-01 00:00:00\n",
      "2024-09-12 23:00:00\n"
     ]
    }
   ],
   "source": [
    "print(deduped_and_filled.index.min())\n",
    "print(deduped_and_filled.index.max())"
   ]
  },
  {
   "cell_type": "code",
   "execution_count": null,
   "metadata": {},
   "outputs": [],
   "source": [
    "# final df code in TS\n",
    "import pandas as pd\n",
    "import numpy as np\n",
    "from scipy import interpolate\n",
    "import matplotlib.pyplot as plt\n",
    "\n",
    "ts_df = pd.read_csv(\"hrl_load_metered.csv\")\n",
    "\n",
    "#drop unused columns\n",
    "ts_df_rdx = ts_df.drop(columns=['is_verified', 'nerc_region', 'mkt_region','zone','load_area'])\n",
    "\n",
    "# set time as datetime \n",
    "ts_df_rdx['datetime_beginning_ept'] = pd.to_datetime(ts_df_rdx['datetime_beginning_ept'], format='mixed')\n",
    "\n",
    "# set the index as the datetime column\n",
    "ts_df_rdx.set_index(ts_df_rdx.datetime_beginning_ept, inplace=True)\n",
    "\n",
    "# drop column\n",
    "ts_df_rdx.drop(columns='datetime_beginning_ept', inplace=True)\n",
    "\n",
    "# drop duplicates due to daylight savings\n",
    "deduped = ts_df_rdx.reset_index()\n",
    "deduped.drop_duplicates(subset=['index'], keep='first', inplace=True)\n",
    "deduped.set_index('index', inplace=True)\n",
    "\n",
    "# check for missing data points\n",
    "full_date_range = pd.date_range(start=deduped.index.min(), end=deduped.index.max(), freq='H')\n",
    "gaps = full_date_range.difference(deduped.index)\n",
    "if not gaps.empty:\n",
    "    print(f\"gaps: {gaps}\")\n",
    "else:\n",
    "    print(\"No gaps\")\n",
    "\n",
    "# now add in the missing hourly data, using df.asfreq()\n",
    "deduped_and_filled = deduped\n",
    "deduped_and_filled = deduped_and_filled.asfreq('H')\n",
    "\n",
    "# now rerun the gap analysis\n",
    "full_date_range = pd.date_range(start=deduped_and_filled.index.min(), end=deduped_and_filled.index.max(), freq='H')\n",
    "\n",
    "gaps = full_date_range.difference(deduped_and_filled.index)\n",
    "\n",
    "if not gaps.empty:\n",
    "    print(f\"gaps: {gaps}\")\n",
    "else:\n",
    "    print(\"No gaps\")\n",
    "\n",
    "# Drop rows where all values are NaN before interpolation\n",
    "df_valid = deduped_and_filled.dropna(subset=['mw'])\n",
    "\n",
    "# Perform spline interpolation\n",
    "spline_interpolator = interpolate.InterpolatedUnivariateSpline(df_valid.index.astype(int), df_valid['mw'], k=2)\n",
    "\n",
    "# Fill missing values in the original df using the spline interpolator\n",
    "deduped_and_filled['mw'] = deduped_and_filled['mw'].combine_first(pd.Series(spline_interpolator(deduped_and_filled.index.astype(int)), index=deduped_and_filled.index))\n",
    "\n",
    "# 5. Plot the original data with the interpolated values\n",
    "plt.figure(figsize=(10, 6))\n",
    "plt.plot(df_valid.index, df_valid['mw'], label='Original Data', marker='o', linestyle='--', color='blue')\n",
    "plt.plot(deduped_and_filled.index, deduped_and_filled['mw'], label='Spline Interpolated Data', color='orange')\n",
    "plt.legend()\n",
    "plt.show()\n",
    "\n",
    "# Check for missing values again to ensure they were filled\n",
    "print(deduped_and_filled.isna().sum())\n",
    "\n",
    "#check the dataframe with the index of the previously empty values\n",
    "deduped_and_filled[deduped_and_filled.index =='2020-03-08 02:00:00']"
   ]
  }
 ],
 "metadata": {
  "kernelspec": {
   "display_name": "base",
   "language": "python",
   "name": "python3"
  },
  "language_info": {
   "codemirror_mode": {
    "name": "ipython",
    "version": 3
   },
   "file_extension": ".py",
   "mimetype": "text/x-python",
   "name": "python",
   "nbconvert_exporter": "python",
   "pygments_lexer": "ipython3",
   "version": "3.11.8"
  }
 },
 "nbformat": 4,
 "nbformat_minor": 2
}
