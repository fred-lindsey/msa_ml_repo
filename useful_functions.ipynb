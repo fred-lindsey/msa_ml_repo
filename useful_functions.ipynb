{
 "cells": [
  {
   "cell_type": "code",
   "execution_count": null,
   "metadata": {},
   "outputs": [],
   "source": [
    "### 1. Identify missing dates from an index in a time series data set\n",
    "full_date_range = pd.date_range(start = usair_p.index.min(), end = usair_p.index.max(), freq = 'MS')\n",
    "\n",
    "gaps = full_date_range.difference(usair_p.index)\n",
    "\n",
    "if not gaps.empty:\n",
    "    print(f\"Missing dates:\\n{gaps}\")\n",
    "else:\n",
    "    print(\"No missing dates found.\")"
   ]
  },
  {
   "cell_type": "code",
   "execution_count": null,
   "metadata": {},
   "outputs": [],
   "source": [
    "### 2. Drop the name of the index column\n",
    "energy.index.name = None"
   ]
  },
  {
   "cell_type": "code",
   "execution_count": null,
   "metadata": {},
   "outputs": [],
   "source": [
    "### 3. Get all columns but one in a list:\n",
    "group_columns = df.columns.difference(['mw'])  # Get columns except 'mw'\n",
    "\n",
    "# then convert this index object to a list:\n",
    "group_columns = group_columns.tolist()"
   ]
  },
  {
   "cell_type": "code",
   "execution_count": null,
   "metadata": {},
   "outputs": [],
   "source": [
    "# 4. get a boolean for a data type:\n",
    "isinstance(var1, int)  # Output: True"
   ]
  },
  {
   "cell_type": "code",
   "execution_count": null,
   "metadata": {},
   "outputs": [],
   "source": [
    "## 5. Time series: get a dataframe date column to a datetime object, then drop the hourly component\n",
    "### convert the column to a datetime object, then drop the hour component\n",
    "df['datetime_beginning_ept'] = pd.to_datetime(df['datetime_beginning_ept'])\n",
    "df['datetime_beginning_ept'] = df['datetime_beginning_ept'].dt.date"
   ]
  },
  {
   "cell_type": "code",
   "execution_count": null,
   "metadata": {},
   "outputs": [],
   "source": [
    "# 6. create an index for a time series object\n",
    "forecast=pd.Series(pd.date_range(\"2006-01-01\", freq=\"M\", periods=27))\n",
    "forecast=pd.DataFrame(forecast)"
   ]
  },
  {
   "cell_type": "code",
   "execution_count": null,
   "metadata": {},
   "outputs": [],
   "source": [
    "# 7. Bin a categorical variable:\n",
    "# now bin the variable with increments\n",
    "train['Gr_Liv_Area_BIN'] = pd.cut(train['Gr_Liv_Area'], [0, 1000, 1500, 3000, 4500, 10000])"
   ]
  },
  {
   "cell_type": "code",
   "execution_count": null,
   "metadata": {},
   "outputs": [],
   "source": [
    "# data engineering: changing the value in a column with replace, using a dictionary framework\n",
    "df['CASHBK'] = df['CASHBK'].replace({1:\"1+\", 2:\"1+\"})"
   ]
  }
 ],
 "metadata": {
  "language_info": {
   "name": "python"
  }
 },
 "nbformat": 4,
 "nbformat_minor": 2
}
